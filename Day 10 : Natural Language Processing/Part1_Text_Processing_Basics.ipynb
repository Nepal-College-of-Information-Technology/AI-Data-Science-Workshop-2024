{
  "cells": [
    {
      "cell_type": "markdown",
      "metadata": {
        "id": "m8-YTefw1LIm"
      },
      "source": [
        "[![Open In Colab](https://colab.research.google.com/assets/colab-badge.svg)](https://colab.research.google.com/github/Nepal-College-of-Information-Technology/AI-Data-Science-Workshop-2024/blob/main/Day%2010%20%3A%20Natural%20Language%20Processing/Part1_Text_Processing_Basics.ipynb)\n"
      ]
    },
    {
      "cell_type": "markdown",
      "metadata": {
        "id": "06wl-it11LIo"
      },
      "source": [
        "# Part 1: Text Processing Basics\n",
        "\n",
        "In this notebook, we will explore the basics of **Text Processing**, a fundamental step in **Natural Language Processing (NLP)**. We will cover key techniques like **tokenization**, **stemming**, **lemmatization**, and **stopwords removal**. These techniques help in preparing raw text data for analysis.\n",
        "\n",
        "---\n",
        "\n",
        "## 1. What is Text Processing?\n",
        "\n",
        "Text processing refers to the steps involved in cleaning and preparing text data for further analysis. Raw text data often contains noise (e.g., punctuation, stopwords) and needs to be standardized before it can be used for tasks like **sentiment analysis**, **text classification**, or **machine translation**.\n",
        "\n",
        "### Real-World Example:\n",
        "Consider you're analyzing customer reviews on an e-commerce platform. The raw text might contain slang, punctuation, or extra words that don't help with analysis. **Text processing** helps clean the text to focus on the important words.\n",
        "\n",
        "---\n",
        "\n",
        "## 2. Tokenization\n",
        "\n",
        "**Tokenization** is the process of splitting text into smaller pieces called **tokens**. Tokens can be words, sentences, or even sub-words.\n",
        "\n",
        "### Example:\n",
        "- Input: `\"I love natural language processing!\"`\n",
        "- Tokens: `[\"I\", \"love\", \"natural\", \"language\", \"processing\", \"!\"]`\n",
        "\n",
        "### Code Example:\n",
        "\n",
        "Let's use **NLTK** to tokenize some text."
      ]
    },
    {
      "cell_type": "code",
      "execution_count": 1,
      "metadata": {
        "colab": {
          "base_uri": "https://localhost:8080/"
        },
        "id": "NTTR9r1-1LIp",
        "outputId": "2f9c3b13-3eee-45ec-ff3e-c0085e89f196"
      },
      "outputs": [
        {
          "name": "stderr",
          "output_type": "stream",
          "text": [
            "[nltk_data] Downloading package punkt to /root/nltk_data...\n",
            "[nltk_data]   Unzipping tokenizers/punkt.zip.\n"
          ]
        },
        {
          "name": "stdout",
          "output_type": "stream",
          "text": [
            "Tokens: ['I', 'love', 'natural', 'language', 'processing', '!']\n"
          ]
        }
      ],
      "source": [
        "import nltk\n",
        "nltk.download('punkt')\n",
        "from nltk.tokenize import word_tokenize\n",
        "\n",
        "# Example sentence\n",
        "text = \"I love natural language processing!\"\n",
        "\n",
        "# Tokenize the text into words\n",
        "tokens = word_tokenize(text)\n",
        "print(\"Tokens:\", tokens)"
      ]
    },
    {
      "cell_type": "markdown",
      "metadata": {
        "id": "iO5MmEbz1UfB"
      },
      "source": [
        "---\n",
        "\n",
        "## 3. Stopwords Removal\n",
        "\n",
        "**Stopwords** are common words like \"is\", \"the\", \"in\" that don’t contribute much to the meaning of the text. Removing these words can make text analysis more efficient.\n",
        "\n",
        "### Real-World Example:\n",
        "In a sentence like \"The movie was great!\", the word \"The\" does not add much meaning, so it can be removed.\n",
        "\n",
        "### Code Example:\n",
        "\n",
        "Let's remove stopwords from the tokenized text using **NLTK**."
      ]
    },
    {
      "cell_type": "code",
      "execution_count": 2,
      "metadata": {
        "colab": {
          "base_uri": "https://localhost:8080/"
        },
        "id": "DPICRXsN1M1W",
        "outputId": "c2ec00ab-adc8-4509-9557-c33b7569f2f5"
      },
      "outputs": [
        {
          "name": "stdout",
          "output_type": "stream",
          "text": [
            "Filtered Tokens (without stopwords): ['love', 'natural', 'language', 'processing', '!']\n"
          ]
        },
        {
          "name": "stderr",
          "output_type": "stream",
          "text": [
            "[nltk_data] Downloading package stopwords to /root/nltk_data...\n",
            "[nltk_data]   Unzipping corpora/stopwords.zip.\n"
          ]
        }
      ],
      "source": [
        "from nltk.corpus import stopwords\n",
        "nltk.download('stopwords')\n",
        "\n",
        "# Get the list of English stopwords\n",
        "stop_words = set(stopwords.words('english'))\n",
        "\n",
        "# Remove stopwords from tokens\n",
        "filtered_tokens = [word for word in tokens if word.lower() not in stop_words]\n",
        "print(\"Filtered Tokens (without stopwords):\", filtered_tokens)"
      ]
    },
    {
      "cell_type": "code",
      "execution_count": 4,
      "metadata": {
        "id": "n59UeL_j1XIA"
      },
      "outputs": [],
      "source": [
        "# stop_words"
      ]
    },
    {
      "cell_type": "markdown",
      "metadata": {
        "id": "0ejNtMCs1oLb"
      },
      "source": [
        "---\n",
        "\n",
        "## 4. Stemming\n",
        "\n",
        "**Stemming** is the process of reducing words to their root form by removing suffixes. For example, \"running\", \"runner\", and \"ran\" all stem to \"run\". Stemming helps in grouping similar words together.\n",
        "\n",
        "### Real-World Example:\n",
        "When analyzing product reviews, words like \"excited\", \"exciting\", and \"excitedly\" all share the same root sentiment. Stemming reduces these words to their root form.\n",
        "\n",
        "### Code Example:\n",
        "\n",
        "We will use **PorterStemmer** from NLTK for stemming."
      ]
    },
    {
      "cell_type": "code",
      "execution_count": 5,
      "metadata": {
        "colab": {
          "base_uri": "https://localhost:8080/"
        },
        "id": "CCJIYFE41hBo",
        "outputId": "e4def0ee-09a1-4226-e133-42301d55326b"
      },
      "outputs": [
        {
          "name": "stdout",
          "output_type": "stream",
          "text": [
            "Stemmed Tokens: ['love', 'natur', 'languag', 'process', '!']\n"
          ]
        }
      ],
      "source": [
        "from nltk.stem import PorterStemmer\n",
        "\n",
        "# Initialize the stemmer\n",
        "stemmer = PorterStemmer()\n",
        "\n",
        "# Stem the filtered tokens\n",
        "stemmed_tokens = [stemmer.stem(word) for word in filtered_tokens]\n",
        "print(\"Stemmed Tokens:\", stemmed_tokens)"
      ]
    },
    {
      "cell_type": "markdown",
      "metadata": {
        "id": "NFnP4FkA1w4M"
      },
      "source": [
        "---\n",
        "\n",
        "## 5. Lemmatization\n",
        "\n",
        "**Lemmatization** is a more advanced technique compared to stemming. It reduces words to their base or dictionary form (lemma). Unlike stemming, lemmatization takes context into account.\n",
        "\n",
        "### Real-World Example:\n",
        "Consider the words \"better\" and \"good\". Stemming would not recognize these as related, but **lemmatization** will convert \"better\" to \"good\", recognizing that they are related.\n",
        "\n",
        "### Code Example:\n",
        "\n",
        "We will use **WordNetLemmatizer** from NLTK for lemmatization."
      ]
    },
    {
      "cell_type": "code",
      "execution_count": 6,
      "metadata": {
        "colab": {
          "base_uri": "https://localhost:8080/"
        },
        "id": "c4w8eiRy1r-b",
        "outputId": "21c1c906-e915-42e2-c478-cf782f15bce4"
      },
      "outputs": [
        {
          "name": "stderr",
          "output_type": "stream",
          "text": [
            "[nltk_data] Downloading package wordnet to /root/nltk_data...\n"
          ]
        },
        {
          "name": "stdout",
          "output_type": "stream",
          "text": [
            "Lemmatized Tokens: ['love', 'natural', 'language', 'processing', '!']\n"
          ]
        }
      ],
      "source": [
        "from nltk.stem import WordNetLemmatizer\n",
        "nltk.download('wordnet')\n",
        "\n",
        "# Initialize the lemmatizer\n",
        "lemmatizer = WordNetLemmatizer()\n",
        "\n",
        "# Lemmatize the filtered tokens\n",
        "lemmatized_tokens = [lemmatizer.lemmatize(word) for word in filtered_tokens]\n",
        "print(\"Lemmatized Tokens:\", lemmatized_tokens)"
      ]
    },
    {
      "cell_type": "markdown",
      "metadata": {
        "id": "aZZgZRKk175W"
      },
      "source": [
        "---\n",
        "\n",
        "## 6. Putting It All Together\n",
        "\n",
        "Now that we've covered tokenization, stopwords removal, stemming, and lemmatization, let's apply all these techniques to a real-world example: **Analyzing customer feedback**.\n",
        "\n",
        "### Example Sentence:\n",
        "\"Customers loved the product, but some were disappointed with the late delivery.\"\n",
        "\n",
        "We will tokenize this text, remove stopwords, and apply both stemming and lemmatization.\n",
        "\n",
        "### Code Example:"
      ]
    },
    {
      "cell_type": "code",
      "execution_count": 7,
      "metadata": {
        "colab": {
          "base_uri": "https://localhost:8080/"
        },
        "id": "CnOQ8C0A1zbB",
        "outputId": "c464df36-d637-45b8-8bde-aa3ec4e1cda4"
      },
      "outputs": [
        {
          "name": "stdout",
          "output_type": "stream",
          "text": [
            "Original Text: Customers loved the product, but some were disappointed with the late delivery.\n",
            "Filtered Tokens: ['Customers', 'loved', 'product', ',', 'disappointed', 'late', 'delivery', '.']\n",
            "Stemmed Tokens: ['custom', 'love', 'product', ',', 'disappoint', 'late', 'deliveri', '.']\n",
            "Lemmatized Tokens: ['Customers', 'loved', 'product', ',', 'disappointed', 'late', 'delivery', '.']\n"
          ]
        }
      ],
      "source": [
        "# Example sentence for text processing\n",
        "feedback = \"Customers loved the product, but some were disappointed with the late delivery.\"\n",
        "\n",
        "# Tokenization\n",
        "tokens = word_tokenize(feedback)\n",
        "\n",
        "# Stopwords Removal\n",
        "filtered_tokens = [word for word in tokens if word.lower() not in stop_words]\n",
        "\n",
        "# Stemming\n",
        "stemmed_tokens = [stemmer.stem(word) for word in filtered_tokens]\n",
        "\n",
        "# Lemmatization\n",
        "lemmatized_tokens = [lemmatizer.lemmatize(word) for word in filtered_tokens]\n",
        "\n",
        "print(\"Original Text:\", feedback)\n",
        "print(\"Filtered Tokens:\", filtered_tokens)\n",
        "print(\"Stemmed Tokens:\", stemmed_tokens)\n",
        "print(\"Lemmatized Tokens:\", lemmatized_tokens)"
      ]
    },
    {
      "cell_type": "markdown",
      "metadata": {
        "id": "O4jm7IKL2LE9"
      },
      "source": [
        "### Another example"
      ]
    },
    {
      "cell_type": "code",
      "execution_count": 8,
      "metadata": {
        "id": "SbYBUuOS2tKb"
      },
      "outputs": [],
      "source": [
        "story = \"Nepal, a small yet diverse country nestled in the lap of the Himalayas, is a land of rich cultural heritage, breathtaking landscapes, and warm hospitality. From the towering peaks of Mount Everest to the lush jungles of Chitwan, the country’s geography offers a unique contrast that captivates both locals and visitors alike. The capital city, Kathmandu, is a vibrant hub of ancient history and modern development, where centuries-old temples like Pashupatinath and Swayambhunath stand alongside bustling markets and contemporary buildings. Nepal is a multilingual and multi-ethnic nation, home to more than 100 ethnic groups and 120 languages, with Nepali being the official language. Festivals like Dashain, Tihar, and Holi bring communities together in celebration, showcasing the country’s deep-rooted traditions. Despite its natural beauty and cultural richness, Nepal faces numerous challenges, including poverty, political instability, and infrastructural development. Many parts of the country, especially in the rural areas, still lack access to quality education, healthcare, and basic amenities. Agriculture remains the primary source of livelihood for the majority of Nepalese, although tourism has emerged as a significant contributor to the economy, drawing trekkers, mountaineers, and spiritual seekers from around the world. As Nepal continues to balance its ancient traditions with the demands of modernity, the spirit of resilience and optimism remains ever-present among its people, making it a truly unique and inspiring nation.\""
      ]
    },
    {
      "cell_type": "code",
      "execution_count": 9,
      "metadata": {
        "colab": {
          "base_uri": "https://localhost:8080/"
        },
        "id": "aA1kuNHf2yK_",
        "outputId": "c9785e5a-ce7c-4105-fa71-9204b0b63ab2"
      },
      "outputs": [
        {
          "name": "stdout",
          "output_type": "stream",
          "text": [
            "Original Text: Nepal, a small yet diverse country nestled in the lap of the Himalayas, is a land of rich cultural heritage, breathtaking landscapes, and warm hospitality. From the towering peaks of Mount Everest to the lush jungles of Chitwan, the country’s geography offers a unique contrast that captivates both locals and visitors alike. The capital city, Kathmandu, is a vibrant hub of ancient history and modern development, where centuries-old temples like Pashupatinath and Swayambhunath stand alongside bustling markets and contemporary buildings. Nepal is a multilingual and multi-ethnic nation, home to more than 100 ethnic groups and 120 languages, with Nepali being the official language. Festivals like Dashain, Tihar, and Holi bring communities together in celebration, showcasing the country’s deep-rooted traditions. Despite its natural beauty and cultural richness, Nepal faces numerous challenges, including poverty, political instability, and infrastructural development. Many parts of the country, especially in the rural areas, still lack access to quality education, healthcare, and basic amenities. Agriculture remains the primary source of livelihood for the majority of Nepalese, although tourism has emerged as a significant contributor to the economy, drawing trekkers, mountaineers, and spiritual seekers from around the world. As Nepal continues to balance its ancient traditions with the demands of modernity, the spirit of resilience and optimism remains ever-present among its people, making it a truly unique and inspiring nation.\n",
            "Filtered Tokens: ['Nepal', ',', 'small', 'yet', 'diverse', 'country', 'nestled', 'lap', 'Himalayas', ',', 'land', 'rich', 'cultural', 'heritage', ',', 'breathtaking', 'landscapes', ',', 'warm', 'hospitality', '.', 'towering', 'peaks', 'Mount', 'Everest', 'lush', 'jungles', 'Chitwan', ',', 'country', '’', 'geography', 'offers', 'unique', 'contrast', 'captivates', 'locals', 'visitors', 'alike', '.', 'capital', 'city', ',', 'Kathmandu', ',', 'vibrant', 'hub', 'ancient', 'history', 'modern', 'development', ',', 'centuries-old', 'temples', 'like', 'Pashupatinath', 'Swayambhunath', 'stand', 'alongside', 'bustling', 'markets', 'contemporary', 'buildings', '.', 'Nepal', 'multilingual', 'multi-ethnic', 'nation', ',', 'home', '100', 'ethnic', 'groups', '120', 'languages', ',', 'Nepali', 'official', 'language', '.', 'Festivals', 'like', 'Dashain', ',', 'Tihar', ',', 'Holi', 'bring', 'communities', 'together', 'celebration', ',', 'showcasing', 'country', '’', 'deep-rooted', 'traditions', '.', 'Despite', 'natural', 'beauty', 'cultural', 'richness', ',', 'Nepal', 'faces', 'numerous', 'challenges', ',', 'including', 'poverty', ',', 'political', 'instability', ',', 'infrastructural', 'development', '.', 'Many', 'parts', 'country', ',', 'especially', 'rural', 'areas', ',', 'still', 'lack', 'access', 'quality', 'education', ',', 'healthcare', ',', 'basic', 'amenities', '.', 'Agriculture', 'remains', 'primary', 'source', 'livelihood', 'majority', 'Nepalese', ',', 'although', 'tourism', 'emerged', 'significant', 'contributor', 'economy', ',', 'drawing', 'trekkers', ',', 'mountaineers', ',', 'spiritual', 'seekers', 'around', 'world', '.', 'Nepal', 'continues', 'balance', 'ancient', 'traditions', 'demands', 'modernity', ',', 'spirit', 'resilience', 'optimism', 'remains', 'ever-present', 'among', 'people', ',', 'making', 'truly', 'unique', 'inspiring', 'nation', '.']\n",
            "Stemmed Tokens: ['nepal', ',', 'small', 'yet', 'divers', 'countri', 'nestl', 'lap', 'himalaya', ',', 'land', 'rich', 'cultur', 'heritag', ',', 'breathtak', 'landscap', ',', 'warm', 'hospit', '.', 'tower', 'peak', 'mount', 'everest', 'lush', 'jungl', 'chitwan', ',', 'countri', '’', 'geographi', 'offer', 'uniqu', 'contrast', 'captiv', 'local', 'visitor', 'alik', '.', 'capit', 'citi', ',', 'kathmandu', ',', 'vibrant', 'hub', 'ancient', 'histori', 'modern', 'develop', ',', 'centuries-old', 'templ', 'like', 'pashupatinath', 'swayambhunath', 'stand', 'alongsid', 'bustl', 'market', 'contemporari', 'build', '.', 'nepal', 'multilingu', 'multi-ethn', 'nation', ',', 'home', '100', 'ethnic', 'group', '120', 'languag', ',', 'nepali', 'offici', 'languag', '.', 'festiv', 'like', 'dashain', ',', 'tihar', ',', 'holi', 'bring', 'commun', 'togeth', 'celebr', ',', 'showcas', 'countri', '’', 'deep-root', 'tradit', '.', 'despit', 'natur', 'beauti', 'cultur', 'rich', ',', 'nepal', 'face', 'numer', 'challeng', ',', 'includ', 'poverti', ',', 'polit', 'instabl', ',', 'infrastructur', 'develop', '.', 'mani', 'part', 'countri', ',', 'especi', 'rural', 'area', ',', 'still', 'lack', 'access', 'qualiti', 'educ', ',', 'healthcar', ',', 'basic', 'amen', '.', 'agricultur', 'remain', 'primari', 'sourc', 'livelihood', 'major', 'nepales', ',', 'although', 'tourism', 'emerg', 'signific', 'contributor', 'economi', ',', 'draw', 'trekker', ',', 'mountain', ',', 'spiritu', 'seeker', 'around', 'world', '.', 'nepal', 'continu', 'balanc', 'ancient', 'tradit', 'demand', 'modern', ',', 'spirit', 'resili', 'optim', 'remain', 'ever-pres', 'among', 'peopl', ',', 'make', 'truli', 'uniqu', 'inspir', 'nation', '.']\n",
            "Lemmatized Tokens: ['Nepal', ',', 'small', 'yet', 'diverse', 'country', 'nestled', 'lap', 'Himalayas', ',', 'land', 'rich', 'cultural', 'heritage', ',', 'breathtaking', 'landscape', ',', 'warm', 'hospitality', '.', 'towering', 'peak', 'Mount', 'Everest', 'lush', 'jungle', 'Chitwan', ',', 'country', '’', 'geography', 'offer', 'unique', 'contrast', 'captivates', 'local', 'visitor', 'alike', '.', 'capital', 'city', ',', 'Kathmandu', ',', 'vibrant', 'hub', 'ancient', 'history', 'modern', 'development', ',', 'centuries-old', 'temple', 'like', 'Pashupatinath', 'Swayambhunath', 'stand', 'alongside', 'bustling', 'market', 'contemporary', 'building', '.', 'Nepal', 'multilingual', 'multi-ethnic', 'nation', ',', 'home', '100', 'ethnic', 'group', '120', 'language', ',', 'Nepali', 'official', 'language', '.', 'Festivals', 'like', 'Dashain', ',', 'Tihar', ',', 'Holi', 'bring', 'community', 'together', 'celebration', ',', 'showcasing', 'country', '’', 'deep-rooted', 'tradition', '.', 'Despite', 'natural', 'beauty', 'cultural', 'richness', ',', 'Nepal', 'face', 'numerous', 'challenge', ',', 'including', 'poverty', ',', 'political', 'instability', ',', 'infrastructural', 'development', '.', 'Many', 'part', 'country', ',', 'especially', 'rural', 'area', ',', 'still', 'lack', 'access', 'quality', 'education', ',', 'healthcare', ',', 'basic', 'amenity', '.', 'Agriculture', 'remains', 'primary', 'source', 'livelihood', 'majority', 'Nepalese', ',', 'although', 'tourism', 'emerged', 'significant', 'contributor', 'economy', ',', 'drawing', 'trekker', ',', 'mountaineer', ',', 'spiritual', 'seeker', 'around', 'world', '.', 'Nepal', 'continues', 'balance', 'ancient', 'tradition', 'demand', 'modernity', ',', 'spirit', 'resilience', 'optimism', 'remains', 'ever-present', 'among', 'people', ',', 'making', 'truly', 'unique', 'inspiring', 'nation', '.']\n"
          ]
        }
      ],
      "source": [
        "\n",
        "# Tokenization\n",
        "tokens = word_tokenize(story)\n",
        "\n",
        "# Stopwords Removal\n",
        "filtered_tokens = [word for word in tokens if word.lower() not in stop_words]\n",
        "\n",
        "# Stemming\n",
        "stemmed_tokens = [stemmer.stem(word) for word in filtered_tokens]\n",
        "\n",
        "# Lemmatization\n",
        "lemmatized_tokens = [lemmatizer.lemmatize(word) for word in filtered_tokens]\n",
        "\n",
        "print(\"Original Text:\", story)\n",
        "print(\"Filtered Tokens:\", filtered_tokens)\n",
        "print(\"Stemmed Tokens:\", stemmed_tokens)\n",
        "print(\"Lemmatized Tokens:\", lemmatized_tokens)"
      ]
    },
    {
      "cell_type": "markdown",
      "metadata": {
        "id": "r4sbiayQ2HRe"
      },
      "source": [
        "---\n",
        "\n",
        "### Conclusion:\n",
        "\n",
        "In this notebook, we explored the basics of text processing, including **tokenization**, **stopwords removal**, **stemming**, and **lemmatization**. These techniques are essential for preparing raw text data for NLP tasks like **sentiment analysis** or **text classification**.\n",
        "\n",
        "In the next notebook, we will build a **Sentiment Analysis Model** using these text processing techniques."
      ]
    },
    {
      "cell_type": "markdown",
      "metadata": {
        "id": "8J-KDBK22Jhd"
      },
      "source": [
        "---"
      ]
    }
  ],
  "metadata": {
    "colab": {
      "provenance": []
    },
    "kernelspec": {
      "display_name": "base",
      "language": "python",
      "name": "python3"
    },
    "language_info": {
      "codemirror_mode": {
        "name": "ipython",
        "version": 3
      },
      "file_extension": ".py",
      "mimetype": "text/x-python",
      "name": "python",
      "nbconvert_exporter": "python",
      "pygments_lexer": "ipython3",
      "version": "3.10.6"
    }
  },
  "nbformat": 4,
  "nbformat_minor": 0
}
