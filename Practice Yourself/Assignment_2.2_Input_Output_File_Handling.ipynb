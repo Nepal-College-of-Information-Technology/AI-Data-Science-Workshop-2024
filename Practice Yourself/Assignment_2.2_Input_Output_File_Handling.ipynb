{
 "cells": [
  {
   "cell_type": "markdown",
   "id": "469ec233",
   "metadata": {},
   "source": [
    "\n",
    "# Assignment 2.2: Input/Output and File Handling\n",
    "\n",
    "This assignment consists of two tasks related to reading, writing, and manipulating files in Python.\n",
    "\n",
    "---\n",
    "\n",
    "## **Task 1: User Registration System**\n",
    "\n",
    "Write a Python program that:\n",
    "1. Prompts the user to enter their name and email.\n",
    "2. Saves this information to a file called `users.txt`.\n",
    "3. Reads the file and prints all registered users.\n",
    "\n",
    "**Hints**:\n",
    "- Use `open()` with `'a'` mode to append new users to the file.\n",
    "- Use `open()` with `'r'` mode to read and print the file content."
   ]
  },
  {
   "cell_type": "code",
   "execution_count": null,
   "id": "e59aad17",
   "metadata": {},
   "outputs": [],
   "source": [
    "# Code here"
   ]
  },
  {
   "cell_type": "markdown",
   "id": "e122679d",
   "metadata": {},
   "source": [
    "---\n",
    "\n",
    "## **Task 2: Employee Data from CSV**\n",
    "\n",
    "Write a Python program that:\n",
    "1. Reads employee data from the provided `employees.csv` file.\n",
    "2. Prints the names and salaries of all employees.\n",
    "3. Finds and prints the employee with the highest salary.\n",
    "4. Adds a new employee to the CSV file.\n",
    "\n",
    "**Hints**:\n",
    "- Use `csv.reader()` to read the CSV file.\n",
    "- Use the `open()` function with `'a'` mode to append a new employee.\n",
    "    "
   ]
  },
  {
   "cell_type": "code",
   "execution_count": 1,
   "id": "8b5a4f3b",
   "metadata": {},
   "outputs": [],
   "source": [
    "# Code here"
   ]
  },
  {
   "cell_type": "markdown",
   "id": "43dd44f1",
   "metadata": {},
   "source": [
    "---"
   ]
  }
 ],
 "metadata": {
  "kernelspec": {
   "display_name": "base",
   "language": "python",
   "name": "python3"
  },
  "language_info": {
   "codemirror_mode": {
    "name": "ipython",
    "version": 3
   },
   "file_extension": ".py",
   "mimetype": "text/x-python",
   "name": "python",
   "nbconvert_exporter": "python",
   "pygments_lexer": "ipython3",
   "version": "3.10.6"
  }
 },
 "nbformat": 4,
 "nbformat_minor": 5
}
