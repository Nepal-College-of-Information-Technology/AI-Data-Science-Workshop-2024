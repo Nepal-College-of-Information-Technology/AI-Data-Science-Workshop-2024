{
 "cells": [
  {
   "cell_type": "markdown",
   "metadata": {},
   "source": [
    "[![Open In Colab](https://colab.research.google.com/assets/colab-badge.svg)](https://colab.research.google.com/github/Nepal-College-of-Information-Technology/AI-Data-Science-Worksop-2024/blob/main/Practice%20Yourself/Assignment_6.2_Support_Vector_Machines.ipynb)"
   ]
  },
  {
   "cell_type": "markdown",
   "metadata": {},
   "source": [
    "# Assignment 6.2: Support Vector Machines (SVM)\n",
    "\n",
    "## Objective:\n",
    "Implement an **SVM classifier** to classify handwritten digits using the **digits dataset** from Scikit-learn.\n",
    "\n",
    "### Dataset:\n",
    "Use the **Digits Dataset** from Scikit-learn (`sklearn.datasets.load_digits()`).\n",
    "\n",
    "---\n",
    "\n",
    "## Tasks:\n",
    "\n",
    "### Task 1: Load and Visualize the Dataset\n",
    "\n",
    "#### Load the **digits dataset** from Scikit-learn.\n",
    "```python\n",
    "# Import necessary libraries\n",
    "import matplotlib.pyplot as plt\n",
    "from sklearn.datasets import load_digits\n",
    "\n",
    "# Load the digits dataset\n",
    "digits = load_digits()\n"
   ]
  },
  {
   "cell_type": "markdown",
   "metadata": {},
   "source": [
    "#### Display the shape of the dataset\n",
    "```python \n",
    "print(f\"Dataset shape: {digits.data.shape}\")\n",
    "print(f\"Target shape: {digits.target.shape}\")\n",
    "\n"
   ]
  },
  {
   "cell_type": "markdown",
   "metadata": {},
   "source": [
    "####  Visualize the first few digits with their labels\n",
    "```python \n",
    "plt.figure(figsize=(10, 4))\n",
    "\n",
    "for i in range(10):\n",
    "    plt.subplot(2, 5, i + 1)\n",
    "    plt.imshow(digits.images[i], cmap='gray')\n",
    "    plt.title(f'Label: {digits.target[i]}')\n",
    "    plt.axis('off')\n",
    "\n",
    "plt.tight_layout()\n",
    "plt.show()\n"
   ]
  },
  {
   "cell_type": "code",
   "execution_count": null,
   "metadata": {},
   "outputs": [],
   "source": [
    "# Code here"
   ]
  },
  {
   "cell_type": "markdown",
   "metadata": {},
   "source": [
    "### Task 2: Split the Dataset\n",
    "\n",
    "Split the dataset into training and testing sets using an 80-20 ratio."
   ]
  },
  {
   "cell_type": "code",
   "execution_count": 2,
   "metadata": {},
   "outputs": [],
   "source": [
    "# Code here"
   ]
  },
  {
   "cell_type": "markdown",
   "metadata": {},
   "source": [
    "### Task 3: Train an SVM Classifier\n",
    "\n",
    "1.\tTrain an SVM classifier on the training data using different kernels (linear, rbf, poly).\n",
    "2.\tObserve how the different kernels affect the results."
   ]
  },
  {
   "cell_type": "code",
   "execution_count": 1,
   "metadata": {},
   "outputs": [],
   "source": [
    "# Code here"
   ]
  },
  {
   "cell_type": "markdown",
   "metadata": {},
   "source": [
    "### Task 4: Evaluate the SVM Classifier\n",
    "\n",
    "1.\tCalculate the accuracy, precision, recall, and F1-score for each kernel type.\n",
    "2.\tCompare the performance of each kernel."
   ]
  },
  {
   "cell_type": "code",
   "execution_count": 3,
   "metadata": {},
   "outputs": [],
   "source": [
    "# Code here"
   ]
  },
  {
   "cell_type": "markdown",
   "metadata": {},
   "source": [
    "### Task 5: Confusion Matrix\n",
    "\n",
    "1.\tGenerate the confusion matrix for the SVM classifier with the best-performing kernel.\n",
    "2.\tVisualize the confusion matrix using a heatmap."
   ]
  },
  {
   "cell_type": "code",
   "execution_count": 4,
   "metadata": {},
   "outputs": [],
   "source": [
    "# Code here"
   ]
  },
  {
   "cell_type": "markdown",
   "metadata": {},
   "source": [
    "### Task 5: Confusion Matrix\n",
    "\n",
    "1.\tGenerate the confusion matrix for the SVM classifier with the best-performing kernel.\n",
    "2.\tVisualize the confusion matrix using a heatmap."
   ]
  },
  {
   "cell_type": "code",
   "execution_count": 5,
   "metadata": {},
   "outputs": [],
   "source": [
    "# Code here"
   ]
  },
  {
   "cell_type": "markdown",
   "metadata": {},
   "source": [
    "Which model performed better, and why?"
   ]
  },
  {
   "cell_type": "markdown",
   "metadata": {},
   "source": [
    "(write your answer here....)"
   ]
  },
  {
   "cell_type": "markdown",
   "metadata": {},
   "source": [
    "---"
   ]
  }
 ],
 "metadata": {
  "kernelspec": {
   "display_name": "base",
   "language": "python",
   "name": "python3"
  },
  "language_info": {
   "codemirror_mode": {
    "name": "ipython",
    "version": 3
   },
   "file_extension": ".py",
   "mimetype": "text/x-python",
   "name": "python",
   "nbconvert_exporter": "python",
   "pygments_lexer": "ipython3",
   "version": "3.10.6"
  }
 },
 "nbformat": 4,
 "nbformat_minor": 2
}
