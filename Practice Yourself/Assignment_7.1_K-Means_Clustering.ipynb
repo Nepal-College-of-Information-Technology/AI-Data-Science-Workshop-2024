{
 "cells": [
  {
   "cell_type": "markdown",
   "metadata": {},
   "source": [
    "[![Open In Colab](https://colab.research.google.com/assets/colab-badge.svg)](https://colab.research.google.com/github/Nepal-College-of-Information-Technology/AI-Data-Science-Worksop-2024/blob/main/Practice%20Yourself/Assignment_7.1_K-Means_Clustering.ipynb)"
   ]
  },
  {
   "cell_type": "markdown",
   "metadata": {},
   "source": [
    "# Assignment 7.1: K-Means Clustering\n",
    "\n",
    "## Instructions:\n",
    "\n",
    "Complete the following tasks related to K-Means Clustering. You will use a dataset to group data points into clusters and visualize the results.\n",
    "\n",
    "### Tasks:"
   ]
  },
  {
   "cell_type": "markdown",
   "metadata": {},
   "source": [
    "1. **Task 1**: Load the **Iris dataset** from `sklearn.datasets`. \n",
    "   - Hint: Use `datasets.load_iris()` to load the dataset.\n",
    "   - Output: Display the first 5 rows of the dataset."
   ]
  },
  {
   "cell_type": "code",
   "execution_count": 1,
   "metadata": {},
   "outputs": [],
   "source": [
    "# Code here"
   ]
  },
  {
   "cell_type": "markdown",
   "metadata": {},
   "source": [
    "2. **Task 2**: Perform **K-Means Clustering** on the Iris dataset using 3 clusters.\n",
    "   - Hint: Use `KMeans` from `sklearn.cluster`.\n",
    "   - Output: Show the cluster labels for each data point."
   ]
  },
  {
   "cell_type": "code",
   "execution_count": 2,
   "metadata": {},
   "outputs": [],
   "source": [
    "# Code here"
   ]
  },
  {
   "cell_type": "markdown",
   "metadata": {},
   "source": [
    "3. **Task 3**: Plot the clusters on a 2D graph using the first two features (sepal length and sepal width).\n",
    "   - Hint: Use `matplotlib` for visualization."
   ]
  },
  {
   "cell_type": "code",
   "execution_count": 3,
   "metadata": {},
   "outputs": [],
   "source": [
    "# Code here"
   ]
  },
  {
   "cell_type": "markdown",
   "metadata": {},
   "source": [
    "4. **Task 4**: Evaluate the performance of your K-Means model using the  **Elbow Method** and **Silhouette Score**.\n",
    "   - Hint: Follow the class note for Elbow Method and Use `silhouette_score` from `sklearn.metrics`.\n",
    "   - Output: Plot the graph and Print the silhouette score."
   ]
  },
  {
   "cell_type": "code",
   "execution_count": 4,
   "metadata": {},
   "outputs": [],
   "source": [
    "# Code here"
   ]
  },
  {
   "cell_type": "markdown",
   "metadata": {},
   "source": [
    "5. **Task 5**: Repeat the clustering task but change the number of clusters to 2 and 4.\n",
    "   - Output: Display and compare the silhouette scores for each number of clusters."
   ]
  },
  {
   "cell_type": "code",
   "execution_count": 5,
   "metadata": {},
   "outputs": [],
   "source": [
    "# Code here with k=2"
   ]
  },
  {
   "cell_type": "code",
   "execution_count": 6,
   "metadata": {},
   "outputs": [],
   "source": [
    "# Code here with k=4"
   ]
  },
  {
   "cell_type": "markdown",
   "metadata": {},
   "source": [
    "#### What is the best value suggest"
   ]
  },
  {
   "cell_type": "markdown",
   "metadata": {},
   "source": [
    "---"
   ]
  }
 ],
 "metadata": {
  "kernelspec": {
   "display_name": "tf2",
   "language": "python",
   "name": "python3"
  },
  "language_info": {
   "codemirror_mode": {
    "name": "ipython",
    "version": 3
   },
   "file_extension": ".py",
   "mimetype": "text/x-python",
   "name": "python",
   "nbconvert_exporter": "python",
   "pygments_lexer": "ipython3",
   "version": "3.8.15"
  }
 },
 "nbformat": 4,
 "nbformat_minor": 2
}
