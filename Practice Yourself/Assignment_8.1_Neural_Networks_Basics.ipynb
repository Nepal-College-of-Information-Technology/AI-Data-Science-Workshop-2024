{
 "cells": [
  {
   "cell_type": "markdown",
   "metadata": {},
   "source": [
    "## Assignment 8.1: Neural Networks Basics\n",
    "\n",
    "### Instructions:\n",
    "\n",
    "Complete the following tasks to get familiar with the basic concepts of neural networks. You will implement a simple neural network using TensorFlow and Keras.\n",
    "\n",
    "### Tasks:\n",
    "1. **Task 1**: Create a neural network model with one hidden layer.\n",
    "   - Use the **Sequential API** from `keras`.\n",
    "   - Input layer: 784 neurons (for MNIST 28x28 images, flattened).\n",
    "   - Hidden layer: 128 neurons with **ReLU** activation.\n",
    "   - Output layer: 10 neurons with **softmax** activation."
   ]
  },
  {
   "cell_type": "code",
   "execution_count": 1,
   "metadata": {},
   "outputs": [],
   "source": [
    "# Code here"
   ]
  },
  {
   "cell_type": "markdown",
   "metadata": {},
   "source": [
    "2. **Task 2**: Compile the model.\n",
    "   - Use **categorical crossentropy** as the loss function.\n",
    "   - Use **Adam** optimizer.\n",
    "   - Track **accuracy** as the metric."
   ]
  },
  {
   "cell_type": "code",
   "execution_count": 2,
   "metadata": {},
   "outputs": [],
   "source": [
    "# Code here"
   ]
  },
  {
   "cell_type": "markdown",
   "metadata": {},
   "source": [
    "3. **Task 3**: Load the **MNIST dataset** from `keras.datasets`.\n",
    "   - Normalize the images to a range of 0 to 1.\n",
    "   - Split the data into training and test sets."
   ]
  },
  {
   "cell_type": "code",
   "execution_count": 3,
   "metadata": {},
   "outputs": [],
   "source": [
    "# Code here"
   ]
  },
  {
   "cell_type": "markdown",
   "metadata": {},
   "source": [
    "5. **Task 5**: Evaluate the model on the **test data**.\n",
    "   - Print the model’s accuracy on the test set."
   ]
  },
  {
   "cell_type": "code",
   "execution_count": 4,
   "metadata": {},
   "outputs": [],
   "source": [
    "# Code here"
   ]
  },
  {
   "cell_type": "markdown",
   "metadata": {},
   "source": [
    "6. **Task 6** (Optional): Plot the training and validation loss curves.\n",
    "   - Hint: Use `matplotlib` to visualize the training history."
   ]
  },
  {
   "cell_type": "code",
   "execution_count": 5,
   "metadata": {},
   "outputs": [],
   "source": [
    "# Code here"
   ]
  },
  {
   "cell_type": "markdown",
   "metadata": {},
   "source": [
    "---"
   ]
  }
 ],
 "metadata": {
  "kernelspec": {
   "display_name": "base",
   "language": "python",
   "name": "python3"
  },
  "language_info": {
   "codemirror_mode": {
    "name": "ipython",
    "version": 3
   },
   "file_extension": ".py",
   "mimetype": "text/x-python",
   "name": "python",
   "nbconvert_exporter": "python",
   "pygments_lexer": "ipython3",
   "version": "3.10.6"
  }
 },
 "nbformat": 4,
 "nbformat_minor": 2
}
