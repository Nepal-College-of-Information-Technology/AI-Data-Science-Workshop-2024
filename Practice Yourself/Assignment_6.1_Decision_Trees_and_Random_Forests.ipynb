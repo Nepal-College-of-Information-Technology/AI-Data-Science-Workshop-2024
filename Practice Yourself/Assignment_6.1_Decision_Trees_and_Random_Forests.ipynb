{
 "cells": [
  {
   "cell_type": "markdown",
   "metadata": {},
   "source": [
    "[![Open In Colab](https://colab.research.google.com/assets/colab-badge.svg)](https://colab.research.google.com/github/Nepal-College-of-Information-Technology/AI-Data-Science-Worksop-2024/blob/main/Practice%20Yourself/Assignment_6.1_Decision_Trees_and_Random_Forests.ipynb)\n"
   ]
  },
  {
   "cell_type": "markdown",
   "metadata": {},
   "source": [
    "# Assignment 6.1: Decision Trees and Random Forests\n",
    "\n",
    "## Objective:\n",
    "Build and evaluate a **Decision Tree** and a **Random Forest** classifier to predict whether a bank customer will subscribe to a term deposit based on various customer attributes (such as age, job, marital status, etc.).\n",
    "\n",
    "### Dataset:\n",
    "You can use the [Bank Marketing Dataset](https://archive.ics.uci.edu/ml/datasets/bank+marketing) or a similar dataset with customer attributes.\n",
    "\n",
    "---\n",
    "\n",
    "## Tasks:\n",
    "\n",
    "### Task 1: Load and Preprocess the Dataset\n",
    "\n",
    "1. Load the dataset into a Pandas DataFrame.\n",
    "2. Handle any missing data if present.\n",
    "3. Convert categorical variables to numerical values using one-hot encoding.\n"
   ]
  },
  {
   "cell_type": "markdown",
   "metadata": {},
   "source": [
    "\n",
    "```python\n",
    "import pandas as pd\n",
    "\n",
    "# Load the dataset\n",
    "df = pd.read_csv('your_dataset.csv')  # Replace with the actual dataset path\n",
    "\n",
    "# Handle missing data (if necessary)\n",
    "# df.fillna(0, inplace=True)  # Example for handling missing values\n",
    "\n",
    "# One-hot encode categorical variables\n",
    "df_encoded = pd.get_dummies(df, drop_first=True)\n",
    "\n",
    "# Display the first few rows of the preprocessed dataset\n",
    "df_encoded.head()"
   ]
  },
  {
   "cell_type": "code",
   "execution_count": 1,
   "metadata": {},
   "outputs": [],
   "source": [
    "# Code here"
   ]
  },
  {
   "cell_type": "markdown",
   "metadata": {},
   "source": [
    "### Task 2: Split the Dataset\n",
    "\n",
    "Split the dataset into training and testing sets using an 80-20 ratio."
   ]
  },
  {
   "cell_type": "code",
   "execution_count": 2,
   "metadata": {},
   "outputs": [],
   "source": [
    "# Code here"
   ]
  },
  {
   "cell_type": "markdown",
   "metadata": {},
   "source": [
    "### Task 3: Train a Decision Tree Classifier\n",
    "\n",
    "1.\tTrain a Decision Tree Classifier on the training data.\n",
    "2.\tVisualize the trained decision tree.\n",
    "3.\tMake predictions on the test data."
   ]
  },
  {
   "cell_type": "code",
   "execution_count": 3,
   "metadata": {},
   "outputs": [],
   "source": [
    "# Code here"
   ]
  },
  {
   "cell_type": "markdown",
   "metadata": {},
   "source": [
    "### Task 4: Train a Random Forest Classifier\n",
    "\n",
    "1.\tTrain a Random Forest Classifier on the training data.\n",
    "2.\tCompare the performance of the Random Forest with the Decision Tree."
   ]
  },
  {
   "cell_type": "code",
   "execution_count": 7,
   "metadata": {},
   "outputs": [],
   "source": [
    "# Code here"
   ]
  },
  {
   "cell_type": "markdown",
   "metadata": {},
   "source": [
    "### Task 5: Evaluate the Models\n",
    "\n",
    "Calculate and compare the accuracy, precision, recall, and F1-score for both the Decision Tree and Random Forest models."
   ]
  },
  {
   "cell_type": "code",
   "execution_count": 5,
   "metadata": {},
   "outputs": [],
   "source": [
    "# Code here"
   ]
  },
  {
   "cell_type": "markdown",
   "metadata": {},
   "source": [
    "### Task 6: Confusion Matrix\n",
    "\n",
    "1.\tGenerate the confusion matrix for both models.\n",
    "2.\tVisualize the confusion matrix using a heatmap."
   ]
  },
  {
   "cell_type": "code",
   "execution_count": 6,
   "metadata": {},
   "outputs": [],
   "source": [
    "# Code here"
   ]
  },
  {
   "cell_type": "markdown",
   "metadata": {},
   "source": [
    "### Conclusion:\n",
    "\n",
    "In this assignment, you:\n",
    "\n",
    "- Loaded and preprocessed the dataset.\n",
    "- Trained a Decision Tree and a Random Forest classifier.\n",
    "- Compared their performance using accuracy, precision, recall, and F1-score.\n",
    "- Visualized their performance using confusion matrices.\n",
    "\n",
    "Which model performed better, and why?"
   ]
  },
  {
   "cell_type": "markdown",
   "metadata": {},
   "source": [
    "(write your answer here....)"
   ]
  },
  {
   "cell_type": "markdown",
   "metadata": {},
   "source": [
    "---"
   ]
  }
 ],
 "metadata": {
  "kernelspec": {
   "display_name": "base",
   "language": "python",
   "name": "python3"
  },
  "language_info": {
   "codemirror_mode": {
    "name": "ipython",
    "version": 3
   },
   "file_extension": ".py",
   "mimetype": "text/x-python",
   "name": "python",
   "nbconvert_exporter": "python",
   "pygments_lexer": "ipython3",
   "version": "3.10.6"
  }
 },
 "nbformat": 4,
 "nbformat_minor": 2
}
