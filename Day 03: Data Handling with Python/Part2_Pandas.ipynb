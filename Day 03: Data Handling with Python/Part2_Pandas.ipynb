{
 "cells": [
  {
   "cell_type": "markdown",
   "id": "9777a4c3",
   "metadata": {},
   "source": [
    "[![Open In Colab](https://colab.research.google.com/assets/colab-badge.svg)](https://colab.research.google.com/github/Nepal-College-of-Information-Technology/AI-Data-Science-Workshop-2024/blob/main/Day%2003%3A%20Data%20Handling%20with%20Python/Part2_Pandas.ipynb)\n"
   ]
  },
  {
   "cell_type": "markdown",
   "id": "ebd66f8a",
   "metadata": {},
   "source": [
    "\n",
    "## 1. Introduction to Pandas\n",
    "\n",
    "**Pandas** is a powerful Python library used for data manipulation and analysis. It is particularly well-suited for handling structured data, like spreadsheets or SQL tables, and allows for easy data cleaning, transformation, and exploration.\n",
    "\n",
    "Pandas provides two primary data structures:\n",
    "\n",
    "- **Series:** A one-dimensional array-like object with labeled indices, perfect for handling data like a column in a spreadsheet.\n",
    "- **DataFrame:** A two-dimensional, size-mutable, and heterogeneous tabular data structure with labeled axes (rows and columns). It's similar to a table in a database or an Excel spreadsheet.\n",
    "\n",
    "### Why Pandas?\n",
    "\n",
    "- **Data Handling:** Pandas is designed to handle large datasets efficiently. It can easily import data from various formats such as CSV, Excel, SQL databases, and more.\n",
    "- **DataFrames:** Pandas DataFrames are highly versatile, allowing for data manipulation, statistical analysis, and more. They are essential for data exploration and preprocessing.\n",
    "- **Integration:** Pandas integrates seamlessly with other data science libraries, such as Numpy, Matplotlib, and Scikit-learn, making it a cornerstone of the Python data analysis stack.\n",
    "\n",
    "\n",
    "Pandas is your go-to tool for data wrangling, offering a suite of functions to clean, modify, analyze, and visualize data.\n"
   ]
  },
  {
   "cell_type": "markdown",
   "id": "f70867dd",
   "metadata": {},
   "source": [
    "\n",
    "### 2.1 Creating a Pandas Series\n",
    "\n",
    "A Pandas Series is a one-dimensional labeled array capable of holding any data type. It can be thought of as a single column of data. \n",
    "\n",
    "For example, you might want to represent the number of vehicles counted at different times of the day at a particular intersection in Kathmandu.\n"
   ]
  },
  {
   "cell_type": "code",
   "execution_count": 1,
   "id": "b21a69b0",
   "metadata": {},
   "outputs": [
    {
     "name": "stdout",
     "output_type": "stream",
     "text": [
      "Traffic Series for a specific day in Kathmandu:\n",
      "Morning    3200\n",
      "Noon       4000\n",
      "Evening    4500\n",
      "dtype: int64\n"
     ]
    }
   ],
   "source": [
    "\n",
    "import pandas as pd\n",
    "\n",
    "# Traffic data for a specific day in Kathmandu\n",
    "traffic_series = pd.Series([3200, 4000, 4500], index=[\"Morning\", \"Noon\", \"Evening\"])\n",
    "print(\"Traffic Series for a specific day in Kathmandu:\")\n",
    "print(traffic_series)\n"
   ]
  },
  {
   "cell_type": "markdown",
   "id": "ab6a76c8",
   "metadata": {},
   "source": [
    "\n",
    "### 2.2 Creating a Pandas DataFrame\n",
    "\n",
    "A Pandas DataFrame is a two-dimensional labeled data structure with columns that can be of different data types. It's like a spreadsheet or a SQL table. \n",
    "\n",
    "For instance, you might want to represent daily traffic data from two intersections in Kathmandu using a DataFrame.\n"
   ]
  },
  {
   "cell_type": "code",
   "execution_count": 2,
   "id": "a3632ae9",
   "metadata": {},
   "outputs": [
    {
     "name": "stdout",
     "output_type": "stream",
     "text": [
      "Traffic DataFrame for two intersections in Kathmandu:\n",
      "         Intersection 1  Intersection 2\n",
      "Morning            3200            6300\n",
      "Noon               4000            8800\n",
      "Evening            4500            6400\n"
     ]
    }
   ],
   "source": [
    "\n",
    "# Creating a DataFrame to represent daily traffic at two intersections in Kathmandu\n",
    "data = {\n",
    "    \"Intersection 1\": [3200, 4000, 4500],\n",
    "    \"Intersection 2\": [6300, 8800, 6400]\n",
    "}\n",
    "traffic_df = pd.DataFrame(data, index=[\"Morning\", \"Noon\", \"Evening\"])\n",
    "print(\"Traffic DataFrame for two intersections in Kathmandu:\")\n",
    "print(traffic_df)\n"
   ]
  },
  {
   "cell_type": "markdown",
   "id": "c944cf22",
   "metadata": {},
   "source": [
    "\n",
    "## 3. Data Operations in Pandas\n",
    "\n",
    "Pandas provides various methods for selecting, filtering, and modifying data within a DataFrame.\n",
    "\n",
    "### 3.1 Selecting and Filtering Data\n",
    "\n",
    "You can select specific rows or columns in a DataFrame or filter data based on conditions.\n",
    "\n",
    "#### Example: Selecting Morning Traffic Data\n"
   ]
  },
  {
   "cell_type": "code",
   "execution_count": 3,
   "id": "80872110",
   "metadata": {},
   "outputs": [
    {
     "name": "stdout",
     "output_type": "stream",
     "text": [
      "Intersection 1    3200\n",
      "Intersection 2    6300\n",
      "Name: Morning, dtype: int64\n"
     ]
    }
   ],
   "source": [
    "\n",
    "# Selecting traffic data for the morning period\n",
    "morning_traffic = traffic_df.loc[\"Morning\"]\n",
    "print(morning_traffic)\n"
   ]
  },
  {
   "cell_type": "markdown",
   "id": "37108ff4",
   "metadata": {},
   "source": [
    "\n",
    "### 3.2 Modifying Data\n",
    "\n",
    "You can modify the data in a DataFrame by adding new columns, updating existing data, or performing operations on the data.\n",
    "\n",
    "#### Example: Adding a Correction Factor to Traffic Data\n"
   ]
  },
  {
   "cell_type": "code",
   "execution_count": 4,
   "id": "dc49ccad",
   "metadata": {},
   "outputs": [
    {
     "name": "stdout",
     "output_type": "stream",
     "text": [
      "         Intersection 1  Intersection 2\n",
      "Morning            3300            6300\n",
      "Noon               4100            8800\n",
      "Evening            4600            6400\n"
     ]
    }
   ],
   "source": [
    "\n",
    "# Adding a correction factor to traffic data for Intersection 1\n",
    "traffic_df[\"Intersection 1\"] = traffic_df[\"Intersection 1\"] + 100\n",
    "print(traffic_df)\n"
   ]
  },
  {
   "cell_type": "markdown",
   "id": "69d2dbad",
   "metadata": {},
   "source": [
    "\n",
    "### 3.3 Handling Missing Data\n",
    "\n",
    "Real-world datasets often contain missing data. Pandas provides several methods to handle this, such as filling missing values or dropping rows with missing data.\n",
    "\n",
    "#### Example: Filling Missing Data with Default Values\n"
   ]
  },
  {
   "cell_type": "code",
   "execution_count": 5,
   "id": "a34c1a65",
   "metadata": {},
   "outputs": [
    {
     "name": "stdout",
     "output_type": "stream",
     "text": [
      "         Intersection 1  Intersection 2  Intersection 3\n",
      "Morning            3300            6300          3200.0\n",
      "Noon               4100            8800             0.0\n",
      "Evening            4600            6400          4500.0\n"
     ]
    }
   ],
   "source": [
    "\n",
    "# Introducing missing data\n",
    "traffic_df[\"Intersection 3\"] = [3200, None, 4500]\n",
    "\n",
    "# Filling missing data with a default value (0)\n",
    "traffic_df.fillna(0, inplace=True)\n",
    "print(traffic_df)\n"
   ]
  },
  {
   "cell_type": "markdown",
   "id": "5aec0b71",
   "metadata": {},
   "source": [
    "\n",
    "## 4. Data Manipulation Techniques\n",
    "\n",
    "Pandas makes it easy to manipulate and transform data. You can sort data, group it, aggregate it, and merge different datasets together.\n",
    "\n",
    "### 4.1 Sorting Data\n",
    "\n",
    "You can sort data based on specific columns in ascending or descending order.\n",
    "\n",
    "#### Example: Sorting Traffic Data by Morning Traffic\n"
   ]
  },
  {
   "cell_type": "code",
   "execution_count": 6,
   "id": "c116857b",
   "metadata": {},
   "outputs": [
    {
     "name": "stdout",
     "output_type": "stream",
     "text": [
      "         Intersection 1  Intersection 2  Intersection 3\n",
      "Evening            4600            6400          4500.0\n",
      "Noon               4100            8800             0.0\n",
      "Morning            3300            6300          3200.0\n"
     ]
    }
   ],
   "source": [
    "\n",
    "# Sorting traffic data by the traffic count in Intersection 1\n",
    "sorted_traffic = traffic_df.sort_values(by=\"Intersection 1\", ascending=False)\n",
    "print(sorted_traffic)\n"
   ]
  },
  {
   "cell_type": "markdown",
   "id": "053f3e21",
   "metadata": {},
   "source": [
    "\n",
    "### 4.2 Grouping and Aggregating Data\n",
    "\n",
    "Grouping and aggregating data allows you to calculate summary statistics for specific groups within your dataset.\n",
    "\n",
    "#### Example: Calculating the Total Traffic for Each Time Period\n"
   ]
  },
  {
   "cell_type": "code",
   "execution_count": 7,
   "id": "c2904cae",
   "metadata": {},
   "outputs": [
    {
     "name": "stdout",
     "output_type": "stream",
     "text": [
      "Morning    12800.0\n",
      "Noon       12900.0\n",
      "Evening    15500.0\n",
      "dtype: float64\n"
     ]
    }
   ],
   "source": [
    "\n",
    "# Calculating the total traffic across all intersections for each time period\n",
    "total_traffic = traffic_df.sum(axis=1)\n",
    "print(total_traffic)\n"
   ]
  },
  {
   "cell_type": "markdown",
   "id": "0344b881",
   "metadata": {},
   "source": [
    "\n",
    "## 5. Python Pandas - IO Tools\n",
    "\n",
    "Pandas provides a wide array of IO tools to handle data import and export. These functions are essential for reading data from various file formats and writing processed data back to files.\n",
    "\n",
    "### 5.1 Reading CSV Files with `read_csv`\n",
    "\n",
    "One of the most common operations is reading data from a CSV file into a Pandas DataFrame. This is particularly useful when dealing with large datasets stored in CSV format, such as census data or traffic logs.\n",
    "\n",
    "#### Example: Reading Traffic Data from a CSV File\n",
    "\n",
    "Assume you have a CSV file named `kathmandu_traffic.csv` containing traffic data collected over a week. Let's load this data into a Pandas DataFrame.\n"
   ]
  },
  {
   "cell_type": "code",
   "execution_count": 9,
   "id": "70d8c60f",
   "metadata": {},
   "outputs": [
    {
     "name": "stdout",
     "output_type": "stream",
     "text": [
      "Simulated Traffic Data from 'kathmandu_traffic.csv':\n",
      "         Day  Intersection 1  Intersection 2\n",
      "0     Sunday            3200            6300\n",
      "1     Monday            3400            6600\n",
      "2    Tuesday            3000            6200\n",
      "3  Wednesday            4100            7000\n",
      "4   Thursday            4500            7400\n",
      "5     Friday            5000            8000\n",
      "6   Saturday            6200            9000\n"
     ]
    }
   ],
   "source": [
    "\n",
    "# Example of reading a CSV file (assuming the CSV file exists)\n",
    "# Note: Since we cannot actually read files in this environment, this is a hypothetical example.\n",
    "\n",
    "# traffic_df = pd.read_csv('kathmandu_traffic.csv')\n",
    "# print(traffic_df)\n",
    "\n",
    "# For demonstration, let's simulate what the DataFrame might look like:\n",
    "data = {\n",
    "    \"Day\": [\"Sunday\", \"Monday\", \"Tuesday\", \"Wednesday\", \"Thursday\", \"Friday\", \"Saturday\"],\n",
    "    \"Intersection 1\": [3200, 3400, 3000, 4100, 4500, 5000, 6200],\n",
    "    \"Intersection 2\": [6300, 6600, 6200, 7000, 7400, 8000, 9000]\n",
    "}\n",
    "traffic_df = pd.DataFrame(data)\n",
    "print(\"Simulated Traffic Data from 'kathmandu_traffic.csv':\")\n",
    "print(traffic_df)\n"
   ]
  },
  {
   "cell_type": "markdown",
   "id": "04d1dac7",
   "metadata": {},
   "source": [
    "## Introduction to Pandas { Summary Table }"
   ]
  },
  {
   "cell_type": "markdown",
   "id": "ad048412",
   "metadata": {},
   "source": [
    "| **Section**                      | **Key Points**                                                                                                                                                    |\n",
    "|----------------------------------|------------------------------------------------------------------------------------------------------------------------------------------------------------------|\n",
    "| **1. Introduction to Pandas**    | - Pandas is a powerful Python library for data manipulation and analysis.                                                                                         |\n",
    "|                                  | - It provides two primary data structures: Series (1D) and DataFrames (2D).                                                                                      |\n",
    "|                                  | - Pandas integrates well with other data science libraries like Numpy and Matplotlib.                                                                            |\n",
    "|                                  | - **Use Cases in Kathmandu:** Analyzing census data, transforming traffic data for peak hours, etc.                                                              |\n",
    "| **2. Creating Pandas Series and DataFrames** | - **Series:** One-dimensional labeled arrays, useful for handling single columns of data.                                                                          |\n",
    "|                                  | - **DataFrame:** Two-dimensional labeled data structures, similar to tables in databases or spreadsheets.                                                        |\n",
    "|                                  | - **Example:** Creating a Series and DataFrame to represent traffic data from intersections in Kathmandu.                                                        |\n",
    "| **3. Data Operations in Pandas** | - **Selecting and Filtering Data:** Choose specific rows/columns or filter based on conditions.                                                                  |\n",
    "|                                  | - **Modifying Data:** Add new columns, update existing data, or perform operations on the DataFrame.                                                             |\n",
    "|                                  | - **Handling Missing Data:** Fill missing values or drop rows/columns with missing data.                                                                         |\n",
    "|                                  | - **Example:** Selecting morning traffic data, adding correction factors, handling missing data in a DataFrame.                                                  |\n",
    "| **4. Data Manipulation Techniques** | - **Sorting Data:** Sort DataFrame based on specific columns.                                                                                                    |\n",
    "|                                  | - **Grouping and Aggregating Data:** Group data by specific columns and calculate summary statistics.                                                            |\n",
    "|                                  | - **Merging and Concatenating DataFrames:** Combine multiple DataFrames to analyze related datasets together.                                                    |\n",
    "|                                  | - **Example:** Sorting traffic data, calculating total traffic, merging traffic data with weather data.                                                          |\n",
    "| **5. Python Pandas - IO Tools**  | - **Reading CSV Files:** Use `read_csv` to load data from CSV files into DataFrames.                                                                              |\n",
    "|                                  | - **Writing to CSV:** Save processed DataFrames back to CSV files for storage or sharing.                                                                         |\n",
    "|                                  | - **Example:** Simulating the loading of traffic data from a CSV file using `read_csv`.                                                                          |"
   ]
  }
 ],
 "metadata": {
  "kernelspec": {
   "display_name": "Python 3",
   "language": "python",
   "name": "python3"
  },
  "language_info": {
   "codemirror_mode": {
    "name": "ipython",
    "version": 3
   },
   "file_extension": ".py",
   "mimetype": "text/x-python",
   "name": "python",
   "nbconvert_exporter": "python",
   "pygments_lexer": "ipython3",
   "version": "3.10.13"
  }
 },
 "nbformat": 4,
 "nbformat_minor": 5
}
