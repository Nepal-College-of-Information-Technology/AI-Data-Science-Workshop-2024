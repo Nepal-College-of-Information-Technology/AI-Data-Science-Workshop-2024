{
 "cells": [
  {
   "cell_type": "markdown",
   "metadata": {},
   "source": [
    "# Part 2: Building a Streamlit App\n",
    "\n",
    "In this notebook, we will build a simple AI application using **Streamlit**, a Python framework for quickly building data and machine learning applications with interactive user interfaces.\n",
    "\n",
    "We will build a simple web app that allows users to input data and make predictions using a pre-trained machine learning model. We'll also deploy this app to **Hugging Face Spaces** or another platform for online access.\n",
    "\n",
    "---\n",
    "\n",
    "## Step 1: Install Streamlit\n",
    "\n",
    "If you don't have Streamlit installed, you can install it using the following command:\n",
    "```bash\n",
    "!pip install streamlit\n"
   ]
  },
  {
   "cell_type": "markdown",
   "metadata": {},
   "source": [
    "## Step 2: Create the Web App\n",
    "We will create a simple Iris Flower Classifier app. This app will allow users to input flower measurements (sepal length, sepal width, petal length, petal width) and use a Random Forest Classifier to predict the species of the flower.\n",
    "\n",
    "### Code for Streamlit App:"
   ]
  },
  {
   "cell_type": "code",
   "execution_count": null,
   "metadata": {},
   "outputs": [],
   "source": [
    "# Import libraries\n",
    "import streamlit as st\n",
    "from sklearn.datasets import load_iris\n",
    "from sklearn.ensemble import RandomForestClassifier\n",
    "\n",
    "# Load the Iris dataset\n",
    "iris = load_iris()\n",
    "X, y = iris.data, iris.target\n",
    "model = RandomForestClassifier()\n",
    "model.fit(X, y)\n",
    "\n",
    "# Streamlit app interface\n",
    "st.title(\"Iris Flower Classifier\")\n",
    "\n",
    "# User input for flower measurements\n",
    "sepal_length = st.slider('Sepal Length', min_value=4.0, max_value=8.0, step=0.1)\n",
    "sepal_width = st.slider('Sepal Width', min_value=2.0, max_value=4.5, step=0.1)\n",
    "petal_length = st.slider('Petal Length', min_value=1.0, max_value=7.0, step=0.1)\n",
    "petal_width = st.slider('Petal Width', min_value=0.1, max_value=2.5, step=0.1)\n",
    "\n",
    "# Make a prediction using the input values\n",
    "prediction = model.predict([[sepal_length, sepal_width, petal_length, petal_width]])\n",
    "\n",
    "# Display the prediction\n",
    "st.write(f\"The predicted Iris species is: {iris.target_names[prediction][0]}\")\n"
   ]
  },
  {
   "cell_type": "markdown",
   "metadata": {},
   "source": [
    "## Step 3: Run the App Locally\n",
    "To run the Streamlit app locally, use the following command in your terminal:"
   ]
  },
  {
   "cell_type": "code",
   "execution_count": 2,
   "metadata": {},
   "outputs": [],
   "source": [
    "# streamlit run iris_flower_classification.py\n"
   ]
  },
  {
   "cell_type": "markdown",
   "metadata": {},
   "source": [
    "This will open a browser window with the running app, and users will be able to input flower measurements and get predictions.\n"
   ]
  },
  {
   "cell_type": "markdown",
   "metadata": {},
   "source": [
    "## Step 4: Deploy the App to Hugging Face Spaces\n",
    "We will deploy the Streamlit app to Hugging Face Spaces, a free platform to host machine learning apps.\n",
    "\n",
    "## Steps to Deploy:\n",
    "1. Go to Hugging Face Spaces and create a new Space.\n",
    "2. Choose Streamlit as the SDK.\n",
    "3. Push your Streamlit app code to the Space's GitHub repository.\n",
    "\n",
    "\n",
    "The app will automatically be deployed, and you will get a public URL to share.\n",
    "\n",
    "---"
   ]
  },
  {
   "cell_type": "markdown",
   "metadata": {},
   "source": [
    "## Step 5: Deploy the App to Render (Alternative Option)\n",
    "If you prefer, you can deploy the app to Render, another platform for deploying full-stack web applications. Follow these steps:\n",
    "\n",
    "1. Create a free account at Render.\n",
    "2. Create a new Web Service and select your GitHub repository containing the Streamlit app.\n",
    "\n",
    "Render will build and deploy your app, and you will get a public URL.\n",
    "\n",
    "---"
   ]
  },
  {
   "cell_type": "markdown",
   "metadata": {},
   "source": [
    "### Conclusion\n",
    "In this notebook, we built a simple Iris Flower Classifier app using Streamlit. We also walked through the steps to deploy the app to the cloud using Hugging Face Spaces or Render, so the app can be accessed online. You can now experiment with more complex models and deploy them in the same way."
   ]
  }
 ],
 "metadata": {
  "kernelspec": {
   "display_name": "base",
   "language": "python",
   "name": "python3"
  },
  "language_info": {
   "codemirror_mode": {
    "name": "ipython",
    "version": 3
   },
   "file_extension": ".py",
   "mimetype": "text/x-python",
   "name": "python",
   "nbconvert_exporter": "python",
   "pygments_lexer": "ipython3",
   "version": "3.10.6"
  }
 },
 "nbformat": 4,
 "nbformat_minor": 2
}
