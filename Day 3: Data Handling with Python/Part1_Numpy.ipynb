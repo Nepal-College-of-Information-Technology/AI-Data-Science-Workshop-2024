{
 "cells": [
  {
   "cell_type": "markdown",
   "id": "94e233be",
   "metadata": {},
   "source": [
    "[![Open In Colab](https://colab.research.google.com/assets/colab-badge.svg)](https://colab.research.google.com/github/Nepal-College-of-Information-Technology/AI-Data-Science-Workshop-2024/blob/main/Day%203%3A%20Data%20Handling%20with%20Python/Part1_Numpy.ipynb)"
   ]
  },
  {
   "cell_type": "markdown",
   "id": "be8c0d74",
   "metadata": {},
   "source": [
    "\n",
    "## Part 1: Numpy Basics\n"
   ]
  },
  {
   "cell_type": "markdown",
   "id": "bb43e532",
   "metadata": {},
   "source": [
    "# Introduction to Numpy\n",
    "\n",
    "**Numpy** (Numerical Python) is a powerful library in Python that provides support for large, multi-dimensional arrays and matrices. Along with that, it offers a collection of high-level mathematical functions to operate on these arrays, making it an essential tool for scientific computing and data analysis.\n",
    "\n",
    "In the context of data analysis, especially for cities like Kathmandu, Numpy can be incredibly useful for tasks such as:\n",
    "\n",
    "- Analyzing temperature patterns across different times of the year.\n",
    "- Monitoring traffic data at various intersections to optimize traffic flow.\n",
    "- Processing large datasets related to pollution levels, population density, and many more.\n",
    "\n",
    "## Why Numpy?\n",
    "\n",
    "Here's a table summarizing some of the key reasons why Numpy is widely used:\n",
    "\n",
    "| **Feature**                          | **Description**                                                                                  |\n",
    "|--------------------------------------|--------------------------------------------------------------------------------------------------|\n",
    "| **Efficient Array Computation**      | Numpy allows fast and efficient computation on arrays, enabling large-scale data processing.    |\n",
    "| **Multi-Dimensional Arrays**         | Supports multi-dimensional arrays (1D, 2D, 3D, etc.), essential for various types of data.       |\n",
    "| **Broadcasting**                     | Numpy can perform operations on arrays of different shapes, automatically expanding dimensions. |\n",
    "| **Integration with Other Libraries** | Numpy serves as a foundation for many other scientific libraries, making it highly versatile.    |"
   ]
  },
  {
   "cell_type": "markdown",
   "id": "27ba078f",
   "metadata": {},
   "source": [
    "### 1.1.\tInstallation:\n",
    "If you don’t have Numpy installed, you can install it using pip:"
   ]
  },
  {
   "cell_type": "code",
   "execution_count": 1,
   "id": "61761fb4",
   "metadata": {},
   "outputs": [],
   "source": [
    "# !pip install numpy"
   ]
  },
  {
   "cell_type": "markdown",
   "id": "8bc3e4a9",
   "metadata": {},
   "source": [
    "### 1.2.\tImporting Numpy:\n",
    "Import the Numpy library in your Python script or Jupyter Notebook:"
   ]
  },
  {
   "cell_type": "code",
   "execution_count": 2,
   "id": "5043ae1f",
   "metadata": {},
   "outputs": [],
   "source": [
    "import numpy as np"
   ]
  },
  {
   "cell_type": "markdown",
   "id": "7528f027",
   "metadata": {},
   "source": [
    "### 1.3 Example: Analyzing Temperature Data in Kathmandu\n",
    "\n",
    "Let's start with a simple example where we analyze temperature data for a week in Kathmandu using Numpy. This will help you understand the basics of Numpy arrays and their operations."
   ]
  },
  {
   "cell_type": "code",
   "execution_count": 3,
   "id": "a0ad1fb9",
   "metadata": {},
   "outputs": [
    {
     "name": "stdout",
     "output_type": "stream",
     "text": [
      "+------------+------------------+\n",
      "| Day        | Temperature (°C) |\n",
      "+------------+------------------+\n",
      "| Sunday     | 15.5             |\n",
      "| Monday     | 16.8             |\n",
      "| Tuesday    | 18.1             |\n",
      "| Wednesday  | 17.3             |\n",
      "| Thursday   | 19.2             |\n",
      "| Friday     | 20.5             |\n",
      "| Saturday   | 21.2             |\n",
      "+------------+------------------+\n"
     ]
    }
   ],
   "source": [
    "import numpy as np\n",
    "\n",
    "# Kathmandu temperature data (in degrees Celsius) over a week\n",
    "temp_data = np.array([15.5, 16.8, 18.1, 17.3, 19.2, 20.5, 21.2])\n",
    "\n",
    "# Days of the week\n",
    "days_of_week = [\"Sunday\", \"Monday\", \"Tuesday\", \"Wednesday\", \"Thursday\", \"Friday\", \"Saturday\"]\n",
    "\n",
    "# Print table header\n",
    "print(f\"+{'-'*12}+{'-'*18}+\")\n",
    "print(f\"| {'Day':<10} | {'Temperature (°C)':<16} |\")\n",
    "print(f\"+{'-'*12}+{'-'*18}+\")\n",
    "\n",
    "# Print table rows\n",
    "for day, temp in zip(days_of_week, temp_data):\n",
    "    print(f\"| {day:<10} | {temp:<16} |\")\n",
    "\n",
    "# Print table footer\n",
    "print(f\"+{'-'*12}+{'-'*18}+\")"
   ]
  },
  {
   "cell_type": "markdown",
   "id": "2b772d72",
   "metadata": {},
   "source": [
    "\n",
    "## 2. Creating Numpy Arrays\n",
    "\n",
    "Let's start by creating Numpy arrays. Numpy arrays are similar to Python lists but with added functionality and performance. Unlike Python lists, Numpy arrays are more efficient for numerical computations and are widely used in scientific computing, data analysis, and machine learning."
   ]
  },
  {
   "cell_type": "markdown",
   "id": "47a89cc0",
   "metadata": {},
   "source": [
    "### 2.1 Creating a 1D Array"
   ]
  },
  {
   "cell_type": "code",
   "execution_count": 4,
   "id": "febff189",
   "metadata": {},
   "outputs": [
    {
     "name": "stdout",
     "output_type": "stream",
     "text": [
      "1D Array: [1 2 3 4 5]\n"
     ]
    }
   ],
   "source": [
    "# Creating a 1D array\n",
    "array_1d = np.array([1, 2, 3, 4, 5])\n",
    "print(\"1D Array:\", array_1d)\n"
   ]
  },
  {
   "cell_type": "markdown",
   "id": "eee78290",
   "metadata": {},
   "source": [
    "### Example: Traffic Count at Sankhamul Bridge\n",
    "\n",
    "Let’s start with a simple example where we create a 1D array representing the number of vehicles counted at different times of the day (morning, noon, evening) crossing the at Sankhamul Bridge (Lalitpur-Kathmandu)."
   ]
  },
  {
   "cell_type": "code",
   "execution_count": 5,
   "id": "185b8f98",
   "metadata": {},
   "outputs": [
    {
     "name": "stdout",
     "output_type": "stream",
     "text": [
      "Vehicle Count at Different Times of the Day:\n",
      "Morning:  3200\n",
      "Day    :  4000\n",
      "Evening:  4500\n"
     ]
    }
   ],
   "source": [
    "# Number of vehicles at a specific intersection in Kathmandu (morning, noon, evening)\n",
    "vehicles_data = np.array([3200, 4000, 4500])\n",
    "print(\"Vehicle Count at Different Times of the Day:\")\n",
    "print(\"Morning: \", vehicles_data[0])\n",
    "print(\"Day    : \", vehicles_data[1])\n",
    "print(\"Evening: \", vehicles_data[2])"
   ]
  },
  {
   "cell_type": "markdown",
   "id": "164895a2",
   "metadata": {},
   "source": [
    "\n",
    "### 2.2 Creating 2D and 3D Arrays\n",
    "\n",
    "We can create 2D and 3D arrays, which are useful for working with matrices or tensors. Numpy also supports multi-dimensional arrays, which are essential for handling more complex data structures. For instance, a 2D array can represent data across multiple intersections or times.\n"
   ]
  },
  {
   "cell_type": "code",
   "execution_count": 6,
   "id": "7a462a06",
   "metadata": {},
   "outputs": [
    {
     "name": "stdout",
     "output_type": "stream",
     "text": [
      "2D Array:\n",
      " [[1 2 3]\n",
      " [4 5 6]]\n",
      "-------------------------\n",
      "3D Array:\n",
      " [[[1 2]\n",
      "  [3 4]]\n",
      "\n",
      " [[5 6]\n",
      "  [7 8]]]\n"
     ]
    }
   ],
   "source": [
    "# Creating a 2D array\n",
    "array_2d = np.array([[1, 2, 3], [4, 5, 6]])\n",
    "print(\"2D Array:\\n\", array_2d)\n",
    "\n",
    "print(\"-\"*25)\n",
    "# Creating a 3D array\n",
    "array_3d = np.array([[[1, 2], [3, 4]], [[5, 6], [7, 8]]])\n",
    "print(\"3D Array:\\n\", array_3d)\n"
   ]
  },
  {
   "cell_type": "markdown",
   "id": "c1b0e22f",
   "metadata": {},
   "source": [
    "### Example: Traffic Data at Multiple Intersections\n",
    "Consider a scenario where traffic data is collected at two different intersections in Kathmandu Valley at three different times of the day (morning, noon, evening). We can represent this data as a 2D array:"
   ]
  },
  {
   "cell_type": "code",
   "execution_count": 7,
   "id": "d2267876",
   "metadata": {},
   "outputs": [
    {
     "name": "stdout",
     "output_type": "stream",
     "text": [
      "Traffic Data at Two Intersections:\n",
      "[[3200 6300]\n",
      " [4000 8800]\n",
      " [4500 6400]]\n"
     ]
    }
   ],
   "source": [
    "# Traffic data at two intersections (intersection 1, intersection 2) across three time periods (morning, noon, evening)\n",
    "traffic_data = np.array([[3200, 6300], [4000, 8800], [4500, 6400]])\n",
    "print(\"Traffic Data at Two Intersections:\")\n",
    "print(traffic_data)"
   ]
  },
  {
   "cell_type": "markdown",
   "id": "e9c2462c",
   "metadata": {},
   "source": [
    "In this 2D array:\n",
    "\n",
    "- **Rows** represent different times of the day (morning, noon, evening).\n",
    "- **Columns** represent different intersections (Intersection 1 and Intersection 2).\n",
    "\n",
    "This format allows for easy comparison of traffic volumes across different times and locations, which is essential for effective traffic management."
   ]
  },
  {
   "cell_type": "markdown",
   "id": "241cbe57",
   "metadata": {},
   "source": [
    "### Representing in a tabular format"
   ]
  },
  {
   "cell_type": "code",
   "execution_count": 8,
   "id": "5cfef292",
   "metadata": {},
   "outputs": [
    {
     "name": "stdout",
     "output_type": "stream",
     "text": [
      "+------------+------------------+------------------+\n",
      "| Time       | Intersection 1   | Intersection 2   |\n",
      "+------------+------------------+------------------+\n",
      "| Morning    | 3200             | 6300             |\n",
      "| Noon       | 4000             | 8800             |\n",
      "| Evening    | 4500             | 6400             |\n",
      "+------------+------------------+------------------+\n"
     ]
    }
   ],
   "source": [
    "# Traffic data at two intersections (intersection 1, intersection 2) across three time periods (morning, noon, evening)\n",
    "traffic_data = np.array([[3200, 6300], [4000, 8800], [4500, 6400]])\n",
    "\n",
    "# Time periods of the day\n",
    "time_periods = [\"Morning\", \"Noon\", \"Evening\"]\n",
    "\n",
    "# Print table header\n",
    "print(f\"+{'-'*12}+{'-'*18}+{'-'*18}+\")\n",
    "print(f\"| {'Time ':<10} | {'Intersection 1':<16} | {'Intersection 2':<16} |\")\n",
    "print(f\"+{'-'*12}+{'-'*18}+{'-'*18}+\")\n",
    "\n",
    "# Print table rows\n",
    "for time, traffic in zip(time_periods, traffic_data):\n",
    "    print(f\"| {time:<10} | {traffic[0]:<16} | {traffic[1]:<16} |\")\n",
    "\n",
    "# Print table footer\n",
    "print(f\"+{'-'*12}+{'-'*18}+{'-'*18}+\")"
   ]
  },
  {
   "cell_type": "markdown",
   "id": "f9eefac4",
   "metadata": {},
   "source": [
    "### Creating 3D Arrays\n",
    "\n",
    "3D arrays can be used to represent even more complex datasets. For example, suppose we want to track traffic data across multiple days at multiple intersections. A 3D array can store this data efficiently.\n",
    "\n",
    "### Example: Traffic Data Over Multiple Days\n",
    "\n",
    "Imagine we collect traffic data at two intersections in Kathmandu over three days. We can structure this data into a 3D array where:\n",
    "\n",
    "- **The first dimension** represents different days.\n",
    "- **The second dimension** represents different times of the day.\n",
    "- **The third dimension** represents different intersections."
   ]
  },
  {
   "cell_type": "code",
   "execution_count": 9,
   "id": "32a474a1",
   "metadata": {},
   "outputs": [
    {
     "name": "stdout",
     "output_type": "stream",
     "text": [
      "Traffic Data Over Three Days at Two Intersections:\n",
      "[[[120 130]\n",
      "  [300 280]\n",
      "  [450 400]]\n",
      "\n",
      " [[130 140]\n",
      "  [320 300]\n",
      "  [460 420]]\n",
      "\n",
      " [[125 135]\n",
      "  [310 290]\n",
      "  [455 410]]]\n"
     ]
    }
   ],
   "source": [
    "# Traffic data over three days at two intersections (intersection 1, intersection 2)\n",
    "traffic_data_3d = np.array([[[120, 130], [300, 280], [450, 400]],   # Day 1\n",
    "                            [[130, 140], [320, 300], [460, 420]],   # Day 2\n",
    "                            [[125, 135], [310, 290], [455, 410]]])  # Day 3\n",
    "\n",
    "print(\"Traffic Data Over Three Days at Two Intersections:\")\n",
    "print(traffic_data_3d)"
   ]
  },
  {
   "cell_type": "markdown",
   "id": "e0fb7191",
   "metadata": {},
   "source": [
    "\n",
    "### 2.3 Analyzing Environmental Data (1.3 Extension)\n",
    "\n",
    "Let’s consider another example where we create an array to represent temperature data collected from three different monitoring stations around Kathmandu over a week. This data can help in analyzing micro-climate variations across the city.\n",
    "\n",
    "#### Example: Temperature Data from Multiple Stations"
   ]
  },
  {
   "cell_type": "code",
   "execution_count": 10,
   "id": "e7b9c5e5",
   "metadata": {},
   "outputs": [
    {
     "name": "stdout",
     "output_type": "stream",
     "text": [
      "+------------+------------------+------------------+------------------+\n",
      "| Day        | Station 1 (°C)   | Station 2 (°C)   | Station 3 (°C)   |\n",
      "+------------+------------------+------------------+------------------+\n",
      "| Sunday     | 15.5             | 16.1             | 15.8             |\n",
      "| Monday     | 16.8             | 17.3             | 16.9             |\n",
      "| Tuesday    | 18.1             | 18.6             | 18.0             |\n",
      "| Wednesday  | 17.3             | 17.8             | 17.4             |\n",
      "| Thursday   | 19.2             | 19.7             | 19.1             |\n",
      "| Friday     | 20.5             | 21.0             | 20.6             |\n",
      "| Saturday   | 21.2             | 21.7             | 21.3             |\n",
      "+------------+------------------+------------------+------------------+\n"
     ]
    }
   ],
   "source": [
    "# Temperature data from three stations in Kathmandu over a week (each row represents a day)\n",
    "temperature_data = np.array([[15.5, 16.1, 15.8],\n",
    "                             [16.8, 17.3, 16.9],\n",
    "                             [18.1, 18.6, 18.0],\n",
    "                             [17.3, 17.8, 17.4],\n",
    "                             [19.2, 19.7, 19.1],\n",
    "                             [20.5, 21.0, 20.6],\n",
    "                             [21.2, 21.7, 21.3]])\n",
    "\n",
    "# Days of the week\n",
    "days_of_week = [\"Sunday\", \"Monday\", \"Tuesday\", \"Wednesday\", \"Thursday\", \"Friday\", \"Saturday\"]\n",
    "\n",
    "# Print table header\n",
    "print(f\"+{'-'*12}+{'-'*18}+{'-'*18}+{'-'*18}+\")\n",
    "print(f\"| {'Day':<10} | {'Station 1 (°C)':<16} | {'Station 2 (°C)':<16} | {'Station 3 (°C)':<16} |\")\n",
    "print(f\"+{'-'*12}+{'-'*18}+{'-'*18}+{'-'*18}+\")\n",
    "\n",
    "# Print table rows\n",
    "for day, temps in zip(days_of_week, temperature_data):\n",
    "    print(f\"| {day:<10} | {temps[0]:<16} | {temps[1]:<16} | {temps[2]:<16} |\")\n",
    "\n",
    "# Print table footer\n",
    "print(f\"+{'-'*12}+{'-'*18}+{'-'*18}+{'-'*18}+\")"
   ]
  },
  {
   "cell_type": "markdown",
   "id": "58c28928",
   "metadata": {},
   "source": [
    "\n",
    "## 3. Array Operations\n",
    "\n",
    "Numpy allows you to perform a variety of operations on arrays, such as element-wise arithmetic, statistical analysis, and even more complex operations like broadcasting. These operations are highly optimized and are significantly faster than performing similar tasks with Python lists.\n",
    "\n",
    "### 3.1 Element-wise Operations\n",
    "Element-wise operations in Numpy involve performing operations (like addition, subtraction, multiplication, etc.) on each element of the array. This is particularly useful when you’re working with datasets like temperatures, pollution levels, or traffic counts, where you might want to apply the same operation to all data points."
   ]
  },
  {
   "cell_type": "code",
   "execution_count": 11,
   "id": "a7dda01c",
   "metadata": {},
   "outputs": [
    {
     "name": "stdout",
     "output_type": "stream",
     "text": [
      "Element-wise Addition: [5 7 9]\n",
      "Element-wise Multiplication: [ 4 10 18]\n"
     ]
    }
   ],
   "source": [
    "# Element-wise addition\n",
    "array_a = np.array([1, 2, 3])\n",
    "array_b = np.array([4, 5, 6])\n",
    "result_add = array_a + array_b\n",
    "print(\"Element-wise Addition:\", result_add)\n",
    "\n",
    "# Element-wise multiplication\n",
    "result_mult = array_a * array_b\n",
    "print(\"Element-wise Multiplication:\", result_mult)\n"
   ]
  },
  {
   "cell_type": "markdown",
   "id": "1c243188",
   "metadata": {},
   "source": [
    "### Example: Calculating Daily Temperature Differences\n",
    "Suppose we want to calculate the temperature difference between consecutive days in Kathmandu. This can help in analyzing how much the temperature fluctuates from day to day."
   ]
  },
  {
   "cell_type": "code",
   "execution_count": 12,
   "id": "74081af2",
   "metadata": {},
   "outputs": [
    {
     "name": "stdout",
     "output_type": "stream",
     "text": [
      "Temperature Difference Between Consecutive Days: [ 1.3  1.3 -0.8  1.9  1.3  0.7]\n"
     ]
    }
   ],
   "source": [
    "# Temperature data from Kathmandu over a week\n",
    "temp_data = np.array([15.5, 16.8, 18.1, 17.3, 19.2, 20.5, 21.2])\n",
    "\n",
    "# Calculate the difference between consecutive days\n",
    "temp_diff = np.diff(temp_data)\n",
    "print(\"Temperature Difference Between Consecutive Days:\", temp_diff)"
   ]
  },
  {
   "cell_type": "markdown",
   "id": "c433d572",
   "metadata": {},
   "source": [
    "#### In this example:\n",
    "- The np.diff function calculates the difference between each pair of consecutive elements in the temp_data array.\n",
    "- The result is an array showing the temperature change from one day to the next."
   ]
  },
  {
   "cell_type": "markdown",
   "id": "e1773f66",
   "metadata": {},
   "source": [
    "\n",
    "### 3.2 Broadcasting in Numpy\n",
    "\n",
    "Numpy supports broadcasting, allowing you to perform operations on arrays of different shapes. Broadcasting is one of the most powerful features of Numpy. It allows you to perform operations on arrays of different shapes as if they were the same shape. This is done by automatically expanding the smaller array along the “missing” dimensions.\n"
   ]
  },
  {
   "cell_type": "code",
   "execution_count": 13,
   "id": "b25125c6",
   "metadata": {},
   "outputs": [
    {
     "name": "stdout",
     "output_type": "stream",
     "text": [
      "Broadcasting Result:\n",
      " [[5 6 7]\n",
      " [6 7 8]\n",
      " [7 8 9]]\n"
     ]
    }
   ],
   "source": [
    "# Broadcasting example\n",
    "array_c = np.array([1, 2, 3])\n",
    "array_d = np.array([[4], [5], [6]])\n",
    "result_broadcast = array_c + array_d\n",
    "print(\"Broadcasting Result:\\n\", result_broadcast)"
   ]
  },
  {
   "cell_type": "markdown",
   "id": "f374eb21",
   "metadata": {},
   "source": [
    "### Example: Applying a Temperature Correction Factor\n",
    "Let’s assume that all temperature measurements need a correction factor of -0.5 degrees due to calibration errors. We can apply this correction across the entire dataset using broadcasting."
   ]
  },
  {
   "cell_type": "code",
   "execution_count": 14,
   "id": "1041ac74",
   "metadata": {},
   "outputs": [
    {
     "name": "stdout",
     "output_type": "stream",
     "text": [
      "Corrected Temperature Data: [14.18 15.48 16.78 15.98 17.88 19.18 19.88]\n"
     ]
    }
   ],
   "source": [
    "# Apply a correction factor of -1.32 to all temperature data\n",
    "corrected_temp_data = temp_data - 1.32\n",
    "print(\"Corrected Temperature Data:\", corrected_temp_data)"
   ]
  },
  {
   "cell_type": "markdown",
   "id": "e294d98d",
   "metadata": {},
   "source": [
    "### 3.3 Statistical Operations\n",
    "\n",
    "Numpy provides a range of statistical functions to help you analyze your data. These include functions to calculate the mean, median, standard deviation, and more. Let’s use these functions to analyze the temperature data from Kathmandu.\n",
    "\n",
    "#### Example: Analyzing Temperature Data with Statistics"
   ]
  },
  {
   "cell_type": "code",
   "execution_count": 15,
   "id": "d3fad18b",
   "metadata": {},
   "outputs": [
    {
     "name": "stdout",
     "output_type": "stream",
     "text": [
      "Mean Temperature: 18.37°C\n",
      "Maximum Temperature: 21.2°C\n",
      "Minimum Temperature: 15.5°C\n",
      "Standard Deviation of Temperature: 1.90°C\n"
     ]
    }
   ],
   "source": [
    "# Calculate basic statistics\n",
    "mean_temp = np.mean(temp_data)\n",
    "max_temp = np.max(temp_data)\n",
    "min_temp = np.min(temp_data)\n",
    "std_dev_temp = np.std(temp_data)\n",
    "\n",
    "print(f\"Mean Temperature: {mean_temp:.2f}°C\")\n",
    "print(f\"Maximum Temperature: {max_temp}°C\")\n",
    "print(f\"Minimum Temperature: {min_temp}°C\")\n",
    "print(f\"Standard Deviation of Temperature: {std_dev_temp:.2f}°C\")"
   ]
  },
  {
   "cell_type": "markdown",
   "id": "d2d5841e",
   "metadata": {},
   "source": [
    "#### In this example:\n",
    "\n",
    "- np.mean(temp_data) calculates the average temperature over the week.\n",
    "- np.max(temp_data) finds the highest temperature recorded during the week.\n",
    "- np.min(temp_data) finds the lowest temperature recorded during the week.\n",
    "- np.std(temp_data) calculates the standard deviation, which indicates how much the temperatures vary from the mean.\n",
    "\n",
    "These statistical operations are essential for summarizing and understanding your data, especially when dealing with large datasets.\n"
   ]
  },
  {
   "cell_type": "markdown",
   "id": "e2967894",
   "metadata": {},
   "source": [
    "\n",
    "## 4. Indexing and Slicing\n",
    "\n",
    "Indexing and slicing are fundamental operations in Numpy that allow you to access and modify specific parts of your array. These operations are similar to those used with Python lists, but Numpy extends them to multi-dimensional arrays.\n",
    "\n",
    "In the context of data analysis in Kathmandu, indexing and slicing can be extremely useful. For instance, you might want to focus on traffic data from a particular time of day or a specific intersection. Let’s explore how this works with some examples.\n",
    "\n",
    "### 4.1 Accessing Elements\n",
    "We can access individual elements of a Numpy array using indexing. For a 2D array, you provide the row index and the column index to access a specific element.\n",
    "\n",
    "#### Example: Accessing Traffic Data for Noon at Intersection 1\n",
    "\n",
    "Let’s say we want to access the traffic data for the noon time period at Intersection 1."
   ]
  },
  {
   "cell_type": "code",
   "execution_count": 16,
   "id": "b1426249",
   "metadata": {},
   "outputs": [
    {
     "name": "stdout",
     "output_type": "stream",
     "text": [
      "Traffic Data for Noon at Intersection 1: 4000\n"
     ]
    }
   ],
   "source": [
    "# Traffic data at two intersections (intersection 1, intersection 2) across three time periods (morning, noon, evening)\n",
    "traffic_data = np.array([[3200, 6300], [4000, 8800], [4500, 6400]])\n",
    "\n",
    "# Accessing the traffic data for Noon at Intersection 1\n",
    "noon_intersection1 = traffic_data[1, 0]\n",
    "print(\"Traffic Data for Noon at Intersection 1:\", noon_intersection1)"
   ]
  },
  {
   "cell_type": "markdown",
   "id": "c62c8bcf",
   "metadata": {},
   "source": [
    "Here, ```traffic_data[1, 0]``` accesses the element in the second row (Noon) and the first column (Intersection 1), giving us the traffic count at that specific time and location.\n"
   ]
  },
  {
   "cell_type": "markdown",
   "id": "d92e5c5b",
   "metadata": {},
   "source": [
    "\n",
    "### 4.2 Slicing Arrays\n",
    "\n",
    "Slicing allows you to extract a subset of the array. This is particularly useful when you want to analyze a specific time period across all intersections, or vice versa.\n",
    "\n",
    "#### Example: Extracting Traffic Data for All Intersections at Noon\n",
    "\n",
    "Let’s extract the traffic data for the noon time period across both intersections."
   ]
  },
  {
   "cell_type": "code",
   "execution_count": 17,
   "id": "5a7222c4",
   "metadata": {},
   "outputs": [
    {
     "name": "stdout",
     "output_type": "stream",
     "text": [
      "Traffic Data for All Intersections at Noon: [4000 8800]\n"
     ]
    }
   ],
   "source": [
    "# Extracting the traffic data for all intersections at Noon\n",
    "noon_traffic = traffic_data[1, :]\n",
    "print(\"Traffic Data for All Intersections at Noon:\", noon_traffic)"
   ]
  },
  {
   "cell_type": "markdown",
   "id": "bb59c986",
   "metadata": {},
   "source": [
    "In this example, ```traffic_data[1, :]``` selects the entire row corresponding to the noon time period, giving us the traffic counts for both intersections at that time.\n"
   ]
  },
  {
   "cell_type": "markdown",
   "id": "4305c0c4",
   "metadata": {},
   "source": [
    "### 4.3 Advanced Slicing: Extracting Morning and Evening Traffic Data\n",
    "\n",
    "You can also extract multiple rows or columns at once using slicing. For instance, if you want to analyze the traffic data for the morning and evening periods (but not noon), you can do so with slicing.\n",
    "\n",
    "#### Example: Extracting Morning and Evening Traffic Data"
   ]
  },
  {
   "cell_type": "code",
   "execution_count": 18,
   "id": "4d47e087",
   "metadata": {},
   "outputs": [
    {
     "name": "stdout",
     "output_type": "stream",
     "text": [
      "Traffic Data for Morning and Evening at Both Intersections:\n",
      "[[3200 6300]\n",
      " [4500 6400]]\n"
     ]
    }
   ],
   "source": [
    "# Extracting the traffic data for Morning and Evening across both intersections\n",
    "morning_evening_traffic = traffic_data[[0, 2], :]\n",
    "print(\"Traffic Data for Morning and Evening at Both Intersections:\")\n",
    "print(morning_evening_traffic)"
   ]
  },
  {
   "cell_type": "markdown",
   "id": "ecd222b0",
   "metadata": {},
   "source": [
    "In this case, ```traffic_data[[0, 2], :]``` selects the first and third rows (Morning and Evening) for all columns (both intersections).\n"
   ]
  },
  {
   "cell_type": "markdown",
   "id": "4e4526d6",
   "metadata": {},
   "source": [
    "#### Displaying Sliced Data in a Table\n",
    "\n",
    "Finally, let’s display the extracted data in a table format to make it more readable.\n",
    "\n",
    "#### Example: Displaying Morning and Evening Traffic Data"
   ]
  },
  {
   "cell_type": "code",
   "execution_count": 19,
   "id": "26b087a8",
   "metadata": {},
   "outputs": [
    {
     "name": "stdout",
     "output_type": "stream",
     "text": [
      "+------------+------------------+------------------+\n",
      "| Time       | Intersection 1   | Intersection 2   |\n",
      "+------------+------------------+------------------+\n",
      "| Morning    | 3200             | 6300             |\n",
      "| Evening    | 4500             | 6400             |\n",
      "+------------+------------------+------------------+\n"
     ]
    }
   ],
   "source": [
    "# Time periods for the sliced data\n",
    "time_periods_sliced = [\"Morning\", \"Evening\"]\n",
    "\n",
    "# Print table header\n",
    "print(f\"+{'-'*12}+{'-'*18}+{'-'*18}+\")\n",
    "print(f\"| {'Time ':<10} | {'Intersection 1':<16} | {'Intersection 2':<16} |\")\n",
    "print(f\"+{'-'*12}+{'-'*18}+{'-'*18}+\")\n",
    "\n",
    "# Print table rows\n",
    "for time, traffic in zip(time_periods_sliced, morning_evening_traffic):\n",
    "    print(f\"| {time:<10} | {traffic[0]:<16} | {traffic[1]:<16} |\")\n",
    "\n",
    "# Print table footer\n",
    "print(f\"+{'-'*12}+{'-'*18}+{'-'*18}+\")"
   ]
  },
  {
   "cell_type": "code",
   "execution_count": null,
   "id": "326c9e66",
   "metadata": {},
   "outputs": [],
   "source": []
  },
  {
   "cell_type": "markdown",
   "id": "8c4a282c",
   "metadata": {},
   "source": [
    "\n",
    "## 5. Array Manipulation\n",
    "\n",
    "Array manipulation is one of the key features of Numpy that makes it so powerful for data processing tasks. Numpy provides various functions to reshape, join, split, and otherwise modify arrays, allowing you to organize your data in the most convenient format for analysis.\n",
    "### 5.1 Reshaping Arrays\n",
    "Reshaping arrays means changing their shape without altering the data. This is particularly useful when you want to compare or analyze data in different configurations.\n",
    "\n"
   ]
  },
  {
   "cell_type": "code",
   "execution_count": 20,
   "id": "79eb5a66",
   "metadata": {},
   "outputs": [
    {
     "name": "stdout",
     "output_type": "stream",
     "text": [
      "[1 2 3 4 5]\n",
      "Reshaped Array:\n",
      " [[1 2 3 4 5]]\n"
     ]
    }
   ],
   "source": [
    "print(array_1d)\n",
    "# Reshaping a 1D array to a 2D array\n",
    "reshaped_array = array_1d.reshape(1, 5)\n",
    "print(\"Reshaped Array:\\n\", reshaped_array)\n"
   ]
  },
  {
   "cell_type": "markdown",
   "id": "f1ac8669",
   "metadata": {},
   "source": [
    "\n",
    "#### Example: Reshaping Traffic Data for Comparison\n",
    "\n",
    "Let’s say we have traffic data for three different times of the day (morning, noon, evening) at two intersections in Kathmandu. Suppose we want to reshape this data to compare traffic volumes across the intersections for each time period."
   ]
  },
  {
   "cell_type": "code",
   "execution_count": 21,
   "id": "e3ae3e04",
   "metadata": {},
   "outputs": [
    {
     "name": "stdout",
     "output_type": "stream",
     "text": [
      "[[3200 6300]\n",
      " [4000 8800]\n",
      " [4500 6400]]\n",
      "Reshaped Traffic Data for Comparison:\n",
      "[[3200 6300 4000]\n",
      " [8800 4500 6400]]\n"
     ]
    }
   ],
   "source": [
    "# Traffic data at two intersections across three time periods (morning, noon, evening)\n",
    "traffic_data = np.array([[3200, 6300], [4000, 8800], [4500, 6400]])\n",
    "print(traffic_data)\n",
    "# Reshape the traffic data for comparison\n",
    "reshaped_traffic_data = traffic_data.reshape(2, 3)\n",
    "print(\"Reshaped Traffic Data for Comparison:\")\n",
    "print(reshaped_traffic_data)"
   ]
  },
  {
   "cell_type": "markdown",
   "id": "cc1c98b5",
   "metadata": {},
   "source": [
    "In this example:\n",
    "\n",
    "- The reshape(2, 3) method changes the shape of the array from a 3x2 matrix (3 time periods, 2 intersections) to a 2x3 matrix, allowing for easier comparison of traffic volumes across different intersections."
   ]
  },
  {
   "cell_type": "markdown",
   "id": "707fe617",
   "metadata": {},
   "source": [
    "### 5.2 Joining Arrays\n",
    "Joining arrays involves combining multiple arrays into one. This is useful when you have data from multiple sources that you want to analyze together.\n"
   ]
  },
  {
   "cell_type": "code",
   "execution_count": 22,
   "id": "029b0dd0",
   "metadata": {},
   "outputs": [
    {
     "name": "stdout",
     "output_type": "stream",
     "text": [
      "Joined Array: [1 2 3 4 5 6]\n",
      "Split Arrays: [array([1, 2]), array([3, 4]), array([5, 6])]\n"
     ]
    }
   ],
   "source": [
    "# Joining two arrays\n",
    "joined_array = np.concatenate((array_a, array_b))\n",
    "print(\"Joined Array:\", joined_array)\n",
    "\n",
    "# Splitting an array\n",
    "split_array = np.array_split(joined_array, 3)\n",
    "print(\"Split Arrays:\", split_array)\n"
   ]
  },
  {
   "cell_type": "markdown",
   "id": "24f9d885",
   "metadata": {},
   "source": [
    "#### Example: Combining Traffic Data from Two Different Days\n",
    "\n",
    "Suppose we have traffic data from two different days and we want to combine this data into a single array for analysis."
   ]
  },
  {
   "cell_type": "code",
   "execution_count": 23,
   "id": "b82d60c8",
   "metadata": {},
   "outputs": [
    {
     "name": "stdout",
     "output_type": "stream",
     "text": [
      "Combined Traffic Data from Two Days:\n",
      "[[3200 6300]\n",
      " [4000 8800]\n",
      " [4500 6400]\n",
      " [3300 6400]\n",
      " [4100 8900]\n",
      " [4600 6500]]\n"
     ]
    }
   ],
   "source": [
    "# Traffic data for Day 1\n",
    "day1_traffic = np.array([[3200, 6300], [4000, 8800], [4500, 6400]])\n",
    "\n",
    "# Traffic data for Day 2\n",
    "day2_traffic = np.array([[3300, 6400], [4100, 8900], [4600, 6500]])\n",
    "\n",
    "# Combine the traffic data from both days\n",
    "combined_traffic_data = np.concatenate((day1_traffic, day2_traffic), axis=0)\n",
    "print(\"Combined Traffic Data from Two Days:\")\n",
    "print(combined_traffic_data)"
   ]
  },
  {
   "cell_type": "markdown",
   "id": "74a36a45",
   "metadata": {},
   "source": [
    "In this example:\n",
    "\n",
    "- The np.concatenate function joins the two arrays along the specified axis. Here, axis=0 means the arrays are stacked vertically, resulting in a single array that contains traffic data from both days."
   ]
  },
  {
   "cell_type": "markdown",
   "id": "11f83dad",
   "metadata": {},
   "source": [
    "### 5.3 Splitting Arrays\n",
    "\n",
    "Splitting arrays allows you to divide a larger array into smaller sub-arrays. This can be useful for segmenting data into more manageable parts or analyzing specific portions of the dataset.\n",
    "\n",
    "#### Example: Splitting Traffic Data by Time Period\n",
    "\n",
    "Suppose you want to split the traffic data into separate arrays for each time period to analyze them individually."
   ]
  },
  {
   "cell_type": "code",
   "execution_count": 24,
   "id": "8a5f1599",
   "metadata": {},
   "outputs": [
    {
     "name": "stdout",
     "output_type": "stream",
     "text": [
      "Morning Traffic Data:\n",
      "[[3200 6300]]\n",
      "Noon Traffic Data:\n",
      "[[4000 8800]]\n",
      "Evening Traffic Data:\n",
      "[[4500 6400]]\n"
     ]
    }
   ],
   "source": [
    "# Split the traffic data by time period\n",
    "morning_traffic, noon_traffic, evening_traffic = np.array_split(traffic_data, 3)\n",
    "print(\"Morning Traffic Data:\")\n",
    "print(morning_traffic)\n",
    "print(\"Noon Traffic Data:\")\n",
    "print(noon_traffic)\n",
    "print(\"Evening Traffic Data:\")\n",
    "print(evening_traffic)"
   ]
  },
  {
   "cell_type": "markdown",
   "id": "39b1d67c",
   "metadata": {},
   "source": [
    "In this example:\n",
    "\n",
    "- The np.array_split function divides the traffic_data array into three sub-arrays, each corresponding to a different time period (morning, noon, evening)."
   ]
  },
  {
   "cell_type": "markdown",
   "id": "cc1d21b8",
   "metadata": {},
   "source": [
    "### 5.4 Displaying Reshaped Data in a Table\n",
    "\n",
    "Finally, let’s display the reshaped traffic data in a table format to make it easier to understand and compare.\n",
    "\n",
    "#### Example: Displaying Reshaped Traffic Data"
   ]
  },
  {
   "cell_type": "code",
   "execution_count": 25,
   "id": "b76bd9ba",
   "metadata": {},
   "outputs": [
    {
     "name": "stdout",
     "output_type": "stream",
     "text": [
      "+------------------+------------+------------+------------+\n",
      "| Intersection     | Morning    | Noon       | Evening    |\n",
      "+------------------+------------+------------+------------+\n",
      "| Intersection 1   | 3200       | 6300       | 4000       |\n",
      "| Intersection 2   | 8800       | 4500       | 6400       |\n",
      "+------------------+------------+------------+------------+\n"
     ]
    }
   ],
   "source": [
    "# Intersections and time periods for the reshaped data\n",
    "intersections = [\"Intersection 1\", \"Intersection 2\"]\n",
    "time_periods_reshaped = [\"Morning\", \"Noon\", \"Evening\"]\n",
    "\n",
    "# Print table header\n",
    "print(f\"+{'-'*18}+{'-'*12}+{'-'*12}+{'-'*12}+\")\n",
    "print(f\"| {'Intersection':<16} | {time_periods_reshaped[0]:<10} | {time_periods_reshaped[1]:<10} | {time_periods_reshaped[2]:<10} |\")\n",
    "print(f\"+{'-'*18}+{'-'*12}+{'-'*12}+{'-'*12}+\")\n",
    "\n",
    "# Print table rows\n",
    "for i, traffic in enumerate(reshaped_traffic_data):\n",
    "    print(f\"| {intersections[i]:<16} | {traffic[0]:<10} | {traffic[1]:<10} | {traffic[2]:<10} |\")\n",
    "\n",
    "# Print table footer\n",
    "print(f\"+{'-'*18}+{'-'*12}+{'-'*12}+{'-'*12}+\")"
   ]
  },
  {
   "cell_type": "markdown",
   "id": "7e890b39",
   "metadata": {},
   "source": [
    "## Numpy Basic { Summary Table }"
   ]
  },
  {
   "cell_type": "markdown",
   "id": "0242ba10",
   "metadata": {},
   "source": [
    "| **Section**             | **Key Points**                                                                                                                                                      |\n",
    "|-------------------------|--------------------------------------------------------------------------------------------------------------------------------------------------------------------|\n",
    "| **1. Introduction to Numpy**  | - Numpy is essential for efficient numerical computations and data processing.                                                                                |\n",
    "|                         | - Supports multi-dimensional arrays (1D, 2D, 3D, etc.).                                                                                                           |\n",
    "|                         | - Provides a vast library of mathematical functions.                                                                                                              |\n",
    "|                         | - Commonly used in scientific computing, data analysis, and machine learning.                                                                                     |\n",
    "|                         | - Example: Analyzing temperature data in Kathmandu over a week.                                                                                                    |\n",
    "| **2. Creating Numpy Arrays**  | - Arrays can be created from lists, representing data like temperature, traffic, etc.                                                                         |\n",
    "|                         | - 1D Arrays: Represent simple data like vehicle counts at different times.                                                                                        |\n",
    "|                         | - 2D Arrays: Handle more complex data structures like traffic counts at multiple intersections.                                                                   |\n",
    "|                         | - 3D Arrays: Used for even more complex datasets, like traffic data over multiple days.                                                                            |\n",
    "|                         | - Example: Creating and manipulating arrays to represent traffic data in Kathmandu.                                                                                |\n",
    "| **3. Array Operations**       | - **Element-wise Operations**: Perform operations on each element of the array, e.g., calculating temperature differences.                                    |\n",
    "|                         | - **Broadcasting**: Apply operations to arrays of different shapes, e.g., applying a temperature correction factor across all data points.                        |\n",
    "|                         | - **Statistical Operations**: Analyze data with functions like mean, max, min, and standard deviation.                                                            |\n",
    "|                         | - Example: Performing operations to analyze and modify temperature data in Kathmandu.                                                                              |\n",
    "| **4. Indexing and Slicing**   | - **Indexing**: Access specific elements of an array, e.g., traffic data for a specific time and intersection.                                               |\n",
    "|                         | - **Slicing**: Extract sub-arrays for analysis, e.g., traffic data for all intersections at noon.                                                                 |\n",
    "|                         | - **Advanced Slicing**: Extract multiple rows/columns at once, e.g., morning and evening traffic data.                                                            |\n",
    "|                         | - Example: Accessing and slicing traffic data to focus on specific periods or intersections.                                                                       |\n",
    "| **5. Array Manipulation**     | - **Reshaping Arrays**: Change the shape of an array for comparison, e.g., comparing traffic volumes across intersections.                                   |\n",
    "|                         | - **Joining Arrays**: Combine multiple arrays into one, e.g., combining traffic data from different days.                                                         |\n",
    "|                         | - **Splitting Arrays**: Divide an array into smaller sub-arrays, e.g., splitting traffic data by time period.                                                     |\n",
    "|                         | - Example: Manipulating arrays to organize and analyze traffic data in different configurations.                                                                  |"
   ]
  }
 ],
 "metadata": {
  "kernelspec": {
   "display_name": "Python 3",
   "language": "python",
   "name": "python3"
  },
  "language_info": {
   "codemirror_mode": {
    "name": "ipython",
    "version": 3
   },
   "file_extension": ".py",
   "mimetype": "text/x-python",
   "name": "python",
   "nbconvert_exporter": "python",
   "pygments_lexer": "ipython3",
   "version": "3.10.13"
  }
 },
 "nbformat": 4,
 "nbformat_minor": 5
}
