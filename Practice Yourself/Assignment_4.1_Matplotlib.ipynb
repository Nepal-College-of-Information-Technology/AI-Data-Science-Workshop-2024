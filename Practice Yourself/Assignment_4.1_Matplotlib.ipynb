{
 "cells": [
  {
   "cell_type": "markdown",
   "metadata": {},
   "source": [
    "[![Open In Colab](https://colab.research.google.com/assets/colab-badge.svg)](https://colab.research.google.com/github/Nepal-College-of-Information-Technology/AI-Data-Science-Worksop-2024/blob/main/Practice%20Yourself/Assignment_4.1_Matplotlib.ipynb)"
   ]
  },
  {
   "cell_type": "markdown",
   "metadata": {},
   "source": [
    "# Assignment 4.1: Matplotlib Basics\n",
    "\n",
    "This assignment consists of 10 tasks designed to help you practice Matplotlib. The tasks are divided into three levels of difficulty: easy, medium, and challenging.\n",
    "\n",
    "---\n",
    "\n",
    "## Easy Tasks:\n",
    "\n",
    "### **Task 1**: Create a simple line plot using Matplotlib.\n",
    "   - Use `x = [1, 2, 3, 4, 5]` and `y = [1, 4, 9, 16, 25]`."
   ]
  },
  {
   "cell_type": "code",
   "execution_count": 1,
   "metadata": {},
   "outputs": [],
   "source": [
    "# Code here"
   ]
  },
  {
   "cell_type": "markdown",
   "metadata": {},
   "source": [
    "### Task 2: Create a bar chart to display sales data of three products.\n",
    "  - Use products = ['Television', 'Laptop', 'Mobile'] and sales = [150, 200, 300]."
   ]
  },
  {
   "cell_type": "code",
   "execution_count": 2,
   "metadata": {},
   "outputs": [],
   "source": [
    "# Code here"
   ]
  },
  {
   "cell_type": "markdown",
   "metadata": {},
   "source": [
    "### Task 3: Create a scatter plot with random data for x and y.\n",
    "  - Use x = [5, 7, 8, 7, 2] and y = [99, 86, 87, 88, 100]."
   ]
  },
  {
   "cell_type": "code",
   "execution_count": 3,
   "metadata": {},
   "outputs": [],
   "source": [
    "# Code here"
   ]
  },
  {
   "cell_type": "markdown",
   "metadata": {},
   "source": [
    "---"
   ]
  },
  {
   "cell_type": "markdown",
   "metadata": {},
   "source": [
    "## Medium-Level Tasks:\n",
    "\n",
    "### Task 4: Create a customized line plot with labels for axes and a title.\n",
    "  - Use x = [1, 2, 3, 4] and y = [10, 20, 25, 30] and add a title and labels for x-axis and y-axis."
   ]
  },
  {
   "cell_type": "code",
   "execution_count": 4,
   "metadata": {},
   "outputs": [],
   "source": [
    "# Code here"
   ]
  },
  {
   "cell_type": "markdown",
   "metadata": {},
   "source": [
    "### Task 5: Create a bar chart with different colors for each bar.\n",
    "  - Use categories = ['A', 'B', 'C', 'D'] and values = [5, 7, 3, 8]."
   ]
  },
  {
   "cell_type": "code",
   "execution_count": 5,
   "metadata": {},
   "outputs": [],
   "source": [
    "# Code here"
   ]
  },
  {
   "cell_type": "markdown",
   "metadata": {},
   "source": [
    "### Task 6: Create a subplot with two charts:\n",
    "  - One line plot for x = [1, 2, 3, 4] and y = [10, 20, 25, 30].\n",
    "  - One bar chart for categories = ['A', 'B', 'C'] and values = [50, 70, 30]."
   ]
  },
  {
   "cell_type": "code",
   "execution_count": 6,
   "metadata": {},
   "outputs": [],
   "source": [
    "# Code here"
   ]
  },
  {
   "cell_type": "markdown",
   "metadata": {},
   "source": [
    "### Task 7: Create a pie chart to represent the percentage of students with grades A, B, C, and F.\n",
    "  - Use labels = ['A', 'B', 'C', 'F'] and sizes = [15, 30, 45, 10]."
   ]
  },
  {
   "cell_type": "code",
   "execution_count": 7,
   "metadata": {},
   "outputs": [],
   "source": [
    "# Code here"
   ]
  },
  {
   "cell_type": "markdown",
   "metadata": {},
   "source": [
    "---"
   ]
  },
  {
   "cell_type": "markdown",
   "metadata": {},
   "source": [
    "## Challenging Tasks:\n",
    "\n",
    "### Task 8: Create a line plot and customize it with different colors, markers, and line styles.\n",
    "  - Use x = [1, 2, 3, 4] and y = [10, 20, 25, 30] with a red line, circular markers, and a dashed line style."
   ]
  },
  {
   "cell_type": "code",
   "execution_count": 8,
   "metadata": {},
   "outputs": [],
   "source": [
    "# Code here"
   ]
  },
  {
   "cell_type": "markdown",
   "metadata": {},
   "source": [
    "### Task 9: Create a bar chart and customize the width and alignment of the bars.\n",
    "  - Use categories = ['A', 'B', 'C', 'D'] and values = [5, 7, 3, 8]."
   ]
  },
  {
   "cell_type": "code",
   "execution_count": 9,
   "metadata": {},
   "outputs": [],
   "source": [
    "# Code here"
   ]
  },
  {
   "cell_type": "markdown",
   "metadata": {},
   "source": [
    "### Task 10: Create a figure with two subplots:\n",
    "\n",
    "  - One plot shows a scatter plot of x = [1, 2, 3, 4] and y = [10, 20, 25, 30].\n",
    "  - Another plot shows a pie chart for labels = ['A', 'B', 'C'] and sizes = [40, 30, 30]."
   ]
  },
  {
   "cell_type": "code",
   "execution_count": 10,
   "metadata": {},
   "outputs": [],
   "source": [
    "# Code here"
   ]
  },
  {
   "cell_type": "markdown",
   "metadata": {},
   "source": [
    "---"
   ]
  }
 ],
 "metadata": {
  "kernelspec": {
   "display_name": "base",
   "language": "python",
   "name": "python3"
  },
  "language_info": {
   "codemirror_mode": {
    "name": "ipython",
    "version": 3
   },
   "file_extension": ".py",
   "mimetype": "text/x-python",
   "name": "python",
   "nbconvert_exporter": "python",
   "pygments_lexer": "ipython3",
   "version": "3.10.6"
  }
 },
 "nbformat": 4,
 "nbformat_minor": 2
}
