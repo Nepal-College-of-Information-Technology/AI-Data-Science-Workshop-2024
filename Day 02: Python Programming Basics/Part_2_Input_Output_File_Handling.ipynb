{
 "cells": [
  {
   "cell_type": "markdown",
   "id": "465ac4d7",
   "metadata": {},
   "source": [
    "[![Open In Colab](https://colab.research.google.com/assets/colab-badge.svg)](https://colab.research.google.com/github/Nepal-College-of-Information-Technology/AI-Data-Science-Workshop-2024/blob/main/Day%2002%3A%20Python%20Programming%20Basics/Part_2_Input_Output_File_Handling.ipynb)\n"
   ]
  },
  {
   "cell_type": "markdown",
   "id": "f546721f",
   "metadata": {},
   "source": [
    "\n",
    "# Python Programming Basics - Session 2\n",
    "## Basic Input/Output and File Handling\n",
    "\n",
    "In this session, we will cover:\n",
    "1. Input and Output (I/O)\n",
    "2. File Handling in Python with real-world examples\n",
    "\n",
    "---"
   ]
  },
  {
   "cell_type": "markdown",
   "id": "904686eb",
   "metadata": {},
   "source": [
    "## 1. Input and Output (I/O)\n",
    "\n",
    "The `input()` function in Python allows the user to provide input, while `print()` is used to display output.\n",
    "\n",
    "### Example:\n",
    "\n",
    "```python\n",
    "name = input(\"Enter your name: \")\n",
    "age = int(input(\"Enter your age: \"))  # Converting input to integer\n",
    "print(f\"Hello {name}, you are {age} years old.\")\n",
    "```\n",
    "\n",
    "### Activity:\n",
    "- Write a program that asks for the user’s name, age, and favorite color, and prints a sentence using this information.\n",
    "  \n"
   ]
  },
  {
   "cell_type": "code",
   "execution_count": null,
   "id": "f80b32ef",
   "metadata": {},
   "outputs": [],
   "source": [
    "# code pracitce "
   ]
  },
  {
   "cell_type": "markdown",
   "id": "d1eb5e2e",
   "metadata": {},
   "source": [
    "---"
   ]
  },
  {
   "cell_type": "markdown",
   "id": "d4142f9e",
   "metadata": {},
   "source": [
    "### Formatting Strings:\n",
    "Python allows us to format strings using **f-strings** or the `.format()` method.\n",
    "\n",
    "### Example:\n",
    "```python\n",
    "name = \"Bimal\"\n",
    "age = 25\n",
    "print(f\"My name is {name} and I am {age} years old.\")\n",
    "```\n",
    "\n",
    "### Activity:\n",
    "- Write a program that takes the user’s height and weight as input and prints a formatted message with the calculated BMI. (hint: BMI = weight/ (height**2 ))\n"
   ]
  },
  {
   "cell_type": "code",
   "execution_count": 4,
   "id": "59e40d1c",
   "metadata": {},
   "outputs": [],
   "source": [
    "# code pracitce "
   ]
  },
  {
   "cell_type": "markdown",
   "id": "d04a5341",
   "metadata": {},
   "source": [
    "---"
   ]
  },
  {
   "cell_type": "markdown",
   "id": "16a5bcba",
   "metadata": {},
   "source": [
    "## 2. File Handling in Python\n",
    "\n",
    "Python provides built-in functions to read from and write to files. Here are the common file modes:\n",
    "- **'r'**: read (default mode)\n",
    "- **'w'**: write (overwrites existing content)\n",
    "- **'a'**: append (adds content to the end of the file)\n",
    "- **'r+'**: read and write\n",
    "\n",
    "---\n",
    "\n",
    "### **Real-world Examples of File Handling in Python**\n",
    "\n",
    "### 1. Storing and Retrieving User Data\n",
    "A common use case of file handling in real-world applications is saving user data to a file and retrieving it later. For example, a simple registration system can save user names and emails to a file.\n"
   ]
  },
  {
   "cell_type": "code",
   "execution_count": 1,
   "id": "29595102",
   "metadata": {},
   "outputs": [
    {
     "name": "stdout",
     "output_type": "stream",
     "text": [
      "Data saved successfully!\n"
     ]
    }
   ],
   "source": [
    "# Writing user data to a file\n",
    "with open(\"dataset/users.txt\", \"a\") as file:\n",
    "    name = input(\"Enter your name: \")\n",
    "    email = input(\"Enter your email: \")\n",
    "    file.write(f\"Name: {name}, Email: {email}\\n\")\n",
    "    print(\"Data saved successfully!\")"
   ]
  },
  {
   "cell_type": "code",
   "execution_count": 2,
   "id": "bcf630e9",
   "metadata": {},
   "outputs": [
    {
     "name": "stdout",
     "output_type": "stream",
     "text": [
      "Registered Users:\n",
      "Name: Ramesh, Email: ramesh@gmail.com\n",
      "Name: Sambhav Karki, Email: sambhav@gmail.com\n",
      "\n"
     ]
    }
   ],
   "source": [
    "# Reading and displaying user data from the file\n",
    "with open(\"dataset/users.txt\", \"r\") as file:\n",
    "    content = file.read()\n",
    "    print(\"Registered Users:\")\n",
    "    print(content)"
   ]
  },
  {
   "cell_type": "markdown",
   "id": "acdff865",
   "metadata": {},
   "source": [
    "### 2. Logging System\n",
    "File handling can be used to create logs of events in an application. For example, storing logs for every user login or error occurrence."
   ]
  },
  {
   "cell_type": "code",
   "execution_count": 3,
   "id": "efc86fc5",
   "metadata": {},
   "outputs": [
    {
     "name": "stdout",
     "output_type": "stream",
     "text": [
      "Event logged.\n"
     ]
    }
   ],
   "source": [
    "import datetime\n",
    "\n",
    "# Function to log events\n",
    "def log_event(event):\n",
    "    with open(\"dataset/log.txt\", \"a\") as log_file:\n",
    "        timestamp = datetime.datetime.now()\n",
    "        log_file.write(f\"{timestamp}: {event}\\n\")\n",
    "\n",
    "# Logging a user login\n",
    "user = input(\"Enter your username: \")\n",
    "log_event(f\"User {user} logged in.\")\n",
    "print(\"Event logged.\")"
   ]
  },
  {
   "cell_type": "markdown",
   "id": "2f63c73a",
   "metadata": {},
   "source": [
    "---"
   ]
  },
  {
   "cell_type": "markdown",
   "id": "42d572ca",
   "metadata": {},
   "source": [
    "### 3. Reading CSV Data\n",
    "Another common use case is reading data from a CSV file and performing operations on the data. For example, processing employee data stored in a CSV file."
   ]
  },
  {
   "cell_type": "code",
   "execution_count": 5,
   "id": "d704c1a3",
   "metadata": {},
   "outputs": [
    {
     "name": "stdout",
     "output_type": "stream",
     "text": [
      "Employee: Name, Position: Position, Salary: Salary\n",
      "Employee: Dikshya Thapa, Position: Manager, Salary: 75000\n",
      "Employee: Prasun Manandhar, Position: Developer, Salary: 68000\n",
      "Employee: Avijit Gurung, Position: Designer, Salary: 56000\n",
      "Employee: Santosh Neupane, Position: Tester, Salary: 60000\n",
      "Employee: Wilson Shrestha, Position: HR, Salary: 65000\n",
      "Employee: Rajani Mandal, Position:  Programmer, Salary:  70000\n"
     ]
    }
   ],
   "source": [
    "# Reading and processing a CSV file (without using Pandas)\n",
    "with open(\"dataset/employees.csv\", \"r\") as file:\n",
    "    for line in file:\n",
    "        fields = line.strip().split(\",\")\n",
    "        name, position, salary = fields[0], fields[1], fields[2]\n",
    "        print(f\"Employee: {name}, Position: {position}, Salary: {salary}\")\n"
   ]
  },
  {
   "cell_type": "markdown",
   "id": "80815414",
   "metadata": {},
   "source": [
    "---"
   ]
  },
  {
   "cell_type": "markdown",
   "id": "2277cd0a",
   "metadata": {},
   "source": [
    "### 4. Writing a Report to a File\n",
    "You can generate reports from your Python program and write them to a file. For example, generating a sales report for a store.\n",
    "\n",
    "#### Code:\n",
    "```python\n",
    "sales_data = [\n",
    "    {\"product\": \"Laptop\", \"quantity\": 5, \"price\": 800},\n",
    "    {\"product\": \"Phone\", \"quantity\": 10, \"price\": 300},\n",
    "    {\"product\": \"Headphones\", \"quantity\": 20, \"price\": 50}\n",
    "]\n",
    "\n",
    "with open(\"dataset/sales_report.txt\", \"w\") as report:\n",
    "    report.write(\"Sales Report:\\n\")\n",
    "    report.write(\"Product\\tQuantity\\tTotal\\n\")\n",
    "    for item in sales_data:\n",
    "        total_price = item[\"quantity\"] * item[\"price\"]\n",
    "        report.write(f\"{item['product']}\\t{item['quantity']}\\t${total_price}\\n\")\n",
    "```\n",
    "\n",
    "### **Activity**:\n",
    "- Write a program that asks for a user's name and email, stores the data in a file, and reads the file to display all user information.\n",
    "- Create a logging system that logs events such as \"User logged in\" and \"Error occurred\" to a file.\n",
    "- Create a CSV file manually with employee data and write a program to read the data and display each employee's details."
   ]
  },
  {
   "cell_type": "code",
   "execution_count": 1,
   "id": "f4e39d03",
   "metadata": {},
   "outputs": [],
   "source": [
    "# code pracitce "
   ]
  },
  {
   "cell_type": "markdown",
   "id": "6e803c69",
   "metadata": {},
   "source": [
    "---"
   ]
  },
  {
   "cell_type": "markdown",
   "id": "d1fe6d27",
   "metadata": {},
   "source": [
    "### File Handling with Error Handling:\n",
    "It's always good to handle exceptions when working with files.\n",
    "\n",
    "### Example:\n",
    "```python\n",
    "try:\n",
    "    with open(\"dataset/non_existent_file.txt\", \"r\") as file:\n",
    "        content = file.read()\n",
    "        print(content)\n",
    "except FileNotFoundError:\n",
    "    print(\"The file doesn't exist.\")\n",
    "```\n",
    "\n",
    "### Activity:\n",
    "- Modify the previous program to handle cases where the file does not exist or cannot be read.\n",
    "\n"
   ]
  },
  {
   "cell_type": "code",
   "execution_count": 2,
   "id": "f10cad88",
   "metadata": {},
   "outputs": [],
   "source": [
    "# code pracitce "
   ]
  },
  {
   "cell_type": "markdown",
   "id": "20ac116e",
   "metadata": {},
   "source": [
    "---\n",
    "---"
   ]
  }
 ],
 "metadata": {
  "kernelspec": {
   "display_name": "base",
   "language": "python",
   "name": "python3"
  },
  "language_info": {
   "codemirror_mode": {
    "name": "ipython",
    "version": 3
   },
   "file_extension": ".py",
   "mimetype": "text/x-python",
   "name": "python",
   "nbconvert_exporter": "python",
   "pygments_lexer": "ipython3",
   "version": "3.10.6"
  }
 },
 "nbformat": 4,
 "nbformat_minor": 5
}
