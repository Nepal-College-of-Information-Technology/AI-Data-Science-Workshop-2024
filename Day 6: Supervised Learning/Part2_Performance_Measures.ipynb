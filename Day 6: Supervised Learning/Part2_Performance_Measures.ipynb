{
 "cells": [
  {
   "cell_type": "markdown",
   "metadata": {},
   "source": [
    "# Performance Metrics for Machine Learning Models\n",
    "\n",
    "In this notebook, we will explore the key performance metrics used to evaluate machine learning models, particularly classification models.\n",
    "\n",
    "### **Why We Need Each Type of Performance Measure**\n",
    "\n",
    "In machine learning, evaluating the performance of a model is crucial for understanding how well it generalizes to unseen data. Different metrics provide insights into different aspects of a model's performance, especially in classification tasks where class imbalances or the cost of misclassification may differ. Here's why each measure is essential:\n",
    "\n",
    "1. **Accuracy**:\n",
    "   - Accuracy is a simple and intuitive metric — it tells us how often the model's predictions are correct. However, it can be misleading when dealing with imbalanced datasets (e.g., predicting the presence of a rare disease).\n",
    "   - **When to use**: Best for balanced datasets, where the classes are equally represented.\n",
    "\n",
    "2. **Precision**:\n",
    "   - Precision measures the proportion of positive identifications (e.g., predicted \"Yes\") that are actually correct. It’s useful when **false positives** (predicting something as positive when it’s not) have a high cost, such as in spam detection.\n",
    "   - **When to use**: When **false positives** are costly and should be minimized.\n",
    "\n",
    "3. **Recall**:\n",
    "   - Recall (also known as sensitivity or true positive rate) measures the proportion of actual positives that were correctly predicted. It’s crucial when **false negatives** (missing a positive case) have a high cost, such as in medical diagnoses (e.g., detecting cancer).\n",
    "   - **When to use**: When **false negatives** are costly and should be minimized.\n",
    "\n",
    "4. **F1-Score**:\n",
    "   - The F1-Score is the harmonic mean of precision and recall, providing a balance between the two. It's particularly useful in scenarios where you need to strike a balance between precision and recall, such as when dealing with imbalanced datasets.\n",
    "   - **When to use**: When you need a balance between precision and recall, especially when you care equally about avoiding both false positives and false negatives.\n",
    "\n",
    "These metrics help us understand how well the model is performing and provide insight into different aspects of the model's behavior.\n",
    "\n",
    "---\n",
    "\n"
   ]
  },
  {
   "cell_type": "markdown",
   "metadata": {},
   "source": [
    "### **The Confusion Matrix**\n",
    "\n",
    "A **Confusion Matrix** is a performance measurement tool for machine learning classification models. It is a square matrix that visualizes the performance of a classification model by comparing the actual (true) values with the predicted values made by the model. \n",
    "\n",
    "The matrix contains four key metrics:\n",
    "- **True Positives (TP)**: Correctly predicted positive instances.\n",
    "- **True Negatives (TN)**: Correctly predicted negative instances.\n",
    "- **False Positives (FP)**: Incorrectly predicted positive instances (Type I error).\n",
    "- **False Negatives (FN)**: Incorrectly predicted negative instances (Type II error).\n",
    "\n",
    "---\n",
    "\n",
    "### **Why is the Confusion Matrix Important?**\n",
    "\n",
    "1. **Detailed Performance Analysis**:\n",
    "   - Unlike a simple accuracy score, the confusion matrix provides detailed insight into the types of errors the model is making. It shows where the model gets things right and where it gets things wrong, which can help diagnose problems in the model's predictions.\n",
    "\n",
    "2. **Class-Specific Performance**:\n",
    "   - In a classification task, the confusion matrix breaks down performance per class. This is useful for detecting if a model is biased towards certain classes. For instance, in a dataset with imbalanced classes, accuracy alone can be misleading, but the confusion matrix can reveal whether one class is being predicted more often than others.\n",
    "\n",
    "3. **Error Types**:\n",
    "   - The confusion matrix highlights **false positives** (Type I errors) and **false negatives** (Type II errors). These errors can have different costs depending on the context (e.g., in medical diagnosis, a false negative might be more harmful than a false positive). Understanding the types of errors helps in choosing the right performance metrics (e.g., precision, recall, or F1-score).\n",
    "\n",
    "4. **Evaluation of Imbalanced Datasets**:\n",
    "   - When dealing with imbalanced datasets (e.g., fraud detection, medical diagnosis), accuracy alone is not a reliable metric because it can mask poor performance on the minority class. The confusion matrix helps break down how well the model is performing on each class separately, allowing for a deeper understanding of model behavior in skewed datasets.\n",
    "\n",
    "5. **Calculation of Performance Metrics**:\n",
    "   - The confusion matrix serves as the foundation for calculating many important performance metrics like:\n",
    "     - **Accuracy**\n",
    "     - **Precision**\n",
    "     - **Recall**\n",
    "     - **F1-Score**\n",
    "   Each of these metrics uses the values from the confusion matrix to provide a more complete picture of the model's effectiveness.\n",
    "\n",
    "---\n",
    "\n",
    "### **Example of a Confusion Matrix**\n",
    "\n",
    "|                  | Predicted Positive | Predicted Negative |\n",
    "|------------------|--------------------|--------------------|\n",
    "| **Actual Positive** | True Positive (TP)  | False Negative (FN) |\n",
    "| **Actual Negative** | False Positive (FP) | True Negative (TN)  |\n",
    "\n",
    "In this matrix:\n",
    "- **True Positive (TP)**: The model correctly predicted positive cases.\n",
    "- **True Negative (TN)**: The model correctly predicted negative cases.\n",
    "- **False Positive (FP)**: The model incorrectly predicted positive for a negative case (Type I error).\n",
    "- **False Negative (FN)**: The model incorrectly predicted negative for a positive case (Type II error).\n",
    "\n",
    "---\n",
    "\n",
    "### **Use Cases of a Confusion Matrix**\n",
    "\n",
    "- **Medical Diagnosis**:\n",
    "  - In a healthcare setting, false negatives can be critical. For example, failing to detect cancer (false negative) may have serious consequences. The confusion matrix helps doctors and researchers see how often these errors occur and adjust the model accordingly.\n",
    "  \n",
    "- **Spam Detection**:\n",
    "  - A confusion matrix can be used to evaluate how well a model filters spam. False positives (mislabeling a valid email as spam) might be more harmful than missing a spam email. The confusion matrix helps in balancing these errors.\n",
    "\n",
    "- **Credit Fraud Detection**:\n",
    "  - In fraud detection, a false negative (failing to detect fraud) can be costly. The confusion matrix helps identify how many fraudulent transactions the model misses and assists in refining the model to minimize such errors.\n",
    "\n",
    "The confusion matrix is an essential tool for evaluating classification models, as it provides a comprehensive view of the model's performance. It goes beyond accuracy to highlight different types of prediction errors (false positives and false negatives) and allows us to calculate important performance metrics like precision, recall, and F1-score. By breaking down the performance by class, it helps us understand how well the model performs in both balanced and imbalanced datasets, making it an invaluable tool for improving and fine-tuning machine learning models."
   ]
  },
  {
   "cell_type": "markdown",
   "metadata": {},
   "source": [
    "### A Simple Example "
   ]
  },
  {
   "cell_type": "code",
   "execution_count": 8,
   "metadata": {},
   "outputs": [],
   "source": [
    "# Assuming we have true labels and predicted labels\n",
    "y_true = [0, 1, 0, 1, 1, 0, 1, 1]\n",
    "y_pred = [0, 1, 0, 1, 0, 0, 1, 1]"
   ]
  },
  {
   "cell_type": "code",
   "execution_count": 9,
   "metadata": {},
   "outputs": [
    {
     "data": {
      "image/png": "[encoded data removed]",
      "text/plain": [
       "<Figure size 800x600 with 2 Axes>"
      ]
     },
     "metadata": {},
     "output_type": "display_data"
    }
   ],
   "source": [
    "from sklearn.metrics import confusion_matrix\n",
    "import seaborn as sns\n",
    "import matplotlib.pyplot as plt\n",
    "\n",
    "# Compute confusion matrix\n",
    "cm = confusion_matrix(y_true, y_pred)\n",
    "\n",
    "# Plot confusion matrix\n",
    "plt.figure(figsize=(8, 6))\n",
    "sns.heatmap(cm, annot=True, fmt='d', cmap='Blues', xticklabels=['Predicted Negative', 'Predicted Positive'], yticklabels=['Actual Negative', 'Actual Positive'])\n",
    "plt.xlabel('Predicted')\n",
    "plt.ylabel('Actual')\n",
    "plt.title('Confusion Matrix')\n",
    "plt.show()"
   ]
  },
  {
   "cell_type": "markdown",
   "metadata": {},
   "source": [
    "#### 1. Accuracy\n",
    "\n",
    "Accuracy is the most intuitive performance measure and it is simply the ratio of correctly predicted observations to the total observations.\n",
    "\n",
    "![\\Large Accuracy = \\frac{TP + TN}{TP + TN + FP + FN}](https://latex.codecogs.com/svg.latex?\\Large&space;Accuracy=\\frac{TP+TN}{TP+TN+FP+FN}) \n",
    "\n",
    "\n",
    "\n",
    "Where:\n",
    "- **TP (True Positive)**: Correctly predicted positive cases\n",
    "- **TN (True Negative)**: Correctly predicted negative cases\n",
    "- **FP (False Positive)**: Incorrectly predicted positive cases\n",
    "- **FN (False Negative)**: Incorrectly predicted negative cases"
   ]
  },
  {
   "cell_type": "code",
   "execution_count": 4,
   "metadata": {},
   "outputs": [
    {
     "name": "stdout",
     "output_type": "stream",
     "text": [
      "Accuracy: 87.50%\n"
     ]
    }
   ],
   "source": [
    "from sklearn.metrics import accuracy_score\n",
    "# Calculate accuracy\n",
    "accuracy = accuracy_score(y_true, y_pred)\n",
    "print(f\"Accuracy: {accuracy * 100:.2f}%\")"
   ]
  },
  {
   "cell_type": "markdown",
   "metadata": {},
   "source": [
    "### 2.Precision\n",
    "Precision is the ratio of correctly predicted positive observations to the total predicted positives. It tells us how precise the model is when it predicts positive cases.\n",
    "\n",
    "![\\Large Precision=\\frac{TP}{TP+FP}}](https://latex.codecogs.com/svg.latex?\\Large&space;Precision=\\frac{TP}{TP+FP}) \n"
   ]
  },
  {
   "cell_type": "code",
   "execution_count": 10,
   "metadata": {},
   "outputs": [
    {
     "name": "stdout",
     "output_type": "stream",
     "text": [
      "Precision: 1.00\n"
     ]
    }
   ],
   "source": [
    "from sklearn.metrics import precision_score\n",
    "\n",
    "# Calculate precision\n",
    "precision = precision_score(y_true, y_pred)\n",
    "print(f\"Precision: {precision:.2f}\")"
   ]
  },
  {
   "cell_type": "markdown",
   "metadata": {},
   "source": [
    "### 3. Recall (Sensitivity or True Positive Rate)\n",
    "\n",
    "Recall is the ratio of correctly predicted positive observations to all actual positives. It gives us an idea of how well the model can identify positive cases.\n",
    "\n",
    "![\\Large Recall=\\frac{TP}{TP+FN}](https://latex.codecogs.com/svg.latex?\\Large&space;Recall=\\frac{TP}{TP+FN}) \n",
    "\n",
    "\n",
    "\n"
   ]
  },
  {
   "cell_type": "code",
   "execution_count": 11,
   "metadata": {},
   "outputs": [
    {
     "name": "stdout",
     "output_type": "stream",
     "text": [
      "Recall: 0.80\n"
     ]
    }
   ],
   "source": [
    "from sklearn.metrics import recall_score\n",
    "\n",
    "# Calculate recall\n",
    "recall = recall_score(y_true, y_pred)\n",
    "print(f\"Recall: {recall:.2f}\")"
   ]
  },
  {
   "cell_type": "markdown",
   "metadata": {},
   "source": [
    "### 4. F1-Score\n",
    "\n",
    "F1-Score is the harmonic mean of precision and recall. It is a more balanced measure when precision and recall are both important.\n",
    "\n",
    "![\\LargeF1=2\\times\\frac{{Precision}\\times{Recall}}{Precision+Recall}](https://latex.codecogs.com/svg.latex?\\Large&space;F1=2\\times\\frac{{Precision}\\times{Recall}}{Precision+Recall) \n",
    "\n"
   ]
  },
  {
   "cell_type": "code",
   "execution_count": 12,
   "metadata": {},
   "outputs": [
    {
     "name": "stdout",
     "output_type": "stream",
     "text": [
      "F1-Score: 0.89\n"
     ]
    }
   ],
   "source": [
    "from sklearn.metrics import f1_score\n",
    "\n",
    "# Calculate F1-score\n",
    "f1 = f1_score(y_true, y_pred)\n",
    "print(f\"F1-Score: {f1:.2f}\")"
   ]
  },
  {
   "cell_type": "markdown",
   "metadata": {},
   "source": [
    "### Summary\n",
    "\n",
    "- **Accuracy**: Best for balanced datasets where positive and negative classes are almost equal.\n",
    "- **Precision**: Best when we want to minimize false positives.\n",
    "- **Recall**: Best when we want to minimize false negatives (e.g., in medical diagnoses).\n",
    "- **F1-Score**: Best when we need a balance between precision and recall, especially in cases of class imbalance.\n"
   ]
  }
 ],
 "metadata": {
  "kernelspec": {
   "display_name": "base",
   "language": "python",
   "name": "python3"
  },
  "language_info": {
   "codemirror_mode": {
    "name": "ipython",
    "version": 3
   },
   "file_extension": ".py",
   "mimetype": "text/x-python",
   "name": "python",
   "nbconvert_exporter": "python",
   "pygments_lexer": "ipython3",
   "version": "3.10.6"
  }
 },
 "nbformat": 4,
 "nbformat_minor": 2
}
