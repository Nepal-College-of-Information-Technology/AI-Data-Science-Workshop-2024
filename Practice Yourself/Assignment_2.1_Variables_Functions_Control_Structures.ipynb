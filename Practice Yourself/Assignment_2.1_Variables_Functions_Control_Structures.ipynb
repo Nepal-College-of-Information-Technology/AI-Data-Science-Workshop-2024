{
 "cells": [
  {
   "cell_type": "markdown",
   "id": "bfdeaa04",
   "metadata": {},
   "source": [
    "[![Open In Colab](https://colab.research.google.com/assets/colab-badge.svg)](https://colab.research.google.com/github/Nepal-College-of-Information-Technology/AI-Data-Science-Worksop-2024/blob/main/Practice%20Yourself/Assignment_2.1_Variables_Functions_Control_Structures.ipynb)"
   ]
  },
  {
   "cell_type": "markdown",
   "id": "a78f1dbd",
   "metadata": {},
   "source": [
    "\n",
    "# Assignment 1: Variables, Data Types, Functions, and Control Structures\n",
    "\n",
    "This assignment consists of two tasks to help you practice and strengthen your understanding of variables, data types, functions, and control structures.\n",
    "\n",
    "---\n",
    "\n",
    "## **Task 1: List Operations**\n",
    "\n",
    "Write a Python program that:\n",
    "1. Takes a list of numbers as input from the user.\n",
    "2. Prints the sum of the numbers.\n",
    "3. Removes the highest and lowest numbers from the list.\n",
    "4. Prints the updated list and its average.\n",
    "\n",
    "**Hints**:\n",
    "- Use the `input()` function to get input from the user.\n",
    "- Convert the input string to a list of integers.\n",
    "- Use `sum()`, `min()`, and `max()` to perform the necessary operations.    "
   ]
  },
  {
   "cell_type": "code",
   "execution_count": 2,
   "id": "aaeda0e0",
   "metadata": {},
   "outputs": [],
   "source": [
    "# Code here"
   ]
  },
  {
   "cell_type": "markdown",
   "id": "a66678b3",
   "metadata": {},
   "source": [
    "---\n",
    "\n",
    "## **Task 2: Dictionary Manipulation**\n",
    "\n",
    "Write a Python program that:\n",
    "1. Defines a dictionary with student names as keys and their grades as values.\n",
    "2. Allows the user to add a new student and their grade to the dictionary.\n",
    "3. Calculates and prints the average grade of all students.\n",
    "4. Prints the dictionary in a sorted order based on student names.\n",
    "\n",
    "**Hints**:\n",
    "- Use `input()` to get the student name and grade from the user.\n",
    "- Use the `sorted()` function to sort the dictionary by student names."
   ]
  },
  {
   "cell_type": "code",
   "execution_count": 1,
   "id": "285b3bb5",
   "metadata": {},
   "outputs": [],
   "source": [
    "# Code here\n"
   ]
  },
  {
   "cell_type": "markdown",
   "id": "5c781be6",
   "metadata": {},
   "source": [
    "---"
   ]
  }
 ],
 "metadata": {
  "kernelspec": {
   "display_name": "base",
   "language": "python",
   "name": "python3"
  },
  "language_info": {
   "codemirror_mode": {
    "name": "ipython",
    "version": 3
   },
   "file_extension": ".py",
   "mimetype": "text/x-python",
   "name": "python",
   "nbconvert_exporter": "python",
   "pygments_lexer": "ipython3",
   "version": "3.10.6"
  }
 },
 "nbformat": 4,
 "nbformat_minor": 5
}
