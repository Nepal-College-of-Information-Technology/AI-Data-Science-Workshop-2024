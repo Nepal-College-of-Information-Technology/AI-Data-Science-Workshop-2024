{
 "cells": [
  {
   "cell_type": "markdown",
   "metadata": {},
   "source": [
    "[![Open In Colab](https://colab.research.google.com/assets/colab-badge.svg)](https://colab.research.google.com/github/Nepal-College-of-Information-Technology/AI-Data-Science-Workshop-2024/blob/main/Day%2005%3A%20Introduction%20to%20Machine%20Learning/Part3_k-Nearest_Neighbors.ipynb)\n"
   ]
  },
  {
   "cell_type": "markdown",
   "metadata": {},
   "source": [
    "# k-Nearest Neighbors (k-NN)\n",
    "\n",
    "In this notebook, we will explore the k-Nearest Neighbors (k-NN) algorithm using Scikit-learn. We will use a simple dataset to classify flowers. This is a beginner-friendly introduction to how k-NN works.\n",
    "\n",
    "---\n",
    "\n",
    "## 1. What is k-Nearest Neighbors (k-NN)?\n",
    "\n",
    "**k-Nearest Neighbors (k-NN)** is an algorithm that helps us figure out what category something belongs to by looking at the \"neighbors\" around it. Think of it like asking your nearby friends for advice and going with what most of them suggest.\n",
    "\n",
    "### Example:\n",
    "If you want to know if someone likes action movies, ask three of their closest friends (k = 3). If two of them like action movies, it's likely that the person also does!\n",
    "\n",
    "---\n",
    "\n",
    "## 2. How Does k-NN Work?\n",
    "\n",
    "1. **Pick a number** (k) to decide how many \"neighbors\" to ask.\n",
    "2. For each new point (e.g., a flower):\n",
    "   - Look at the closest k neighbors.\n",
    "   - Check what categories (e.g., type of flower) they belong to.\n",
    "   - Take a \"vote\": whichever category appears most is the one we'll predict for the new point.\n",
    "\n",
    "### Real-World Use Cases:\n",
    "- **Movie Recommendations**: Based on what similar users liked.\n",
    "- **Identifying Flowers**: Based on known measurements of other flowers.\n",
    "\n",
    "---\n",
    "\n",
    "## 3. Let's Get Started!\n",
    "\n",
    "We'll use a simple dataset: the **Iris dataset**, which has information about different types of flowers.\n",
    "\n",
    "We’ll answer the question: **Can we predict the type of flower based on measurements like petal length and width?**\n",
    "\n",
    "### Import the Required Libraries"
   ]
  },
  {
   "cell_type": "code",
   "execution_count": 22,
   "metadata": {},
   "outputs": [],
   "source": [
    "# Importing the necessary tools for k-NN\n",
    "import numpy as np  # For numerical operations\n",
    "import matplotlib.pyplot as plt  # For plotting\n",
    "from sklearn.datasets import load_iris  # A dataset with flower data\n",
    "from sklearn.model_selection import train_test_split  # To split data for training/testing\n",
    "from sklearn.neighbors import KNeighborsClassifier  # The k-NN algorithm\n",
    "from sklearn.metrics import accuracy_score  # To check how good our model is"
   ]
  },
  {
   "cell_type": "markdown",
   "metadata": {},
   "source": [
    "## 4. Load the Data\n",
    "\n",
    "About the Iris Dataset\n",
    "\n",
    "The **Iris dataset** is one of the most famous datasets in machine learning. It contains information about three different types of flowers:\n",
    "- **Setosa**\n",
    "- **Versicolour**\n",
    "- **Virginica**\n",
    "![Iris Dataset](dataset/iris_dataset.png)\n",
    "\n",
    "For each flower, four measurements are given:\n",
    "- **Sepal length** (in cm)\n",
    "- **Sepal width** (in cm)\n",
    "- **Petal length** (in cm)\n",
    "- **Petal width** (in cm)\n",
    "\n",
    "Our goal is to classify the flowers based on these measurements."
   ]
  },
  {
   "cell_type": "code",
   "execution_count": 23,
   "metadata": {},
   "outputs": [
    {
     "name": "stdout",
     "output_type": "stream",
     "text": [
      "Features (measurements):\n",
      " [[5.1 3.5 1.4 0.2]\n",
      " [4.9 3.  1.4 0.2]\n",
      " [4.7 3.2 1.3 0.2]\n",
      " [4.6 3.1 1.5 0.2]\n",
      " [5.  3.6 1.4 0.2]]\n",
      "Labels (flower types):\n",
      " [0 0 0 0 0]\n"
     ]
    }
   ],
   "source": [
    "# Load the iris dataset\n",
    "iris = load_iris()\n",
    "X = iris.data  # The measurements (features)\n",
    "y = iris.target  # The type of flower (0 = Setosa, 1 = Versicolour, 2 = Virginica)\n",
    "\n",
    "# Let's see what the data looks like\n",
    "print(\"Features (measurements):\\n\", X[:5])  # First 5 rows of features\n",
    "print(\"Labels (flower types):\\n\", y[:5])  # First 5 rows of target (labels)"
   ]
  },
  {
   "cell_type": "code",
   "execution_count": 24,
   "metadata": {},
   "outputs": [
    {
     "data": {
      "image/png": "[encoded data removed]",
      "text/plain": [
       "<Figure size 640x480 with 1 Axes>"
      ]
     },
     "metadata": {},
     "output_type": "display_data"
    }
   ],
   "source": [
    "# Get the distribution of each class (Setosa, Versicolour, Virginica)\n",
    "labels, counts = np.unique(y, return_counts=True)\n",
    "\n",
    "# Create a bar chart for the distribution of flower types\n",
    "plt.bar(iris.target_names, counts, color=['red', 'green', 'blue'])\n",
    "plt.title('Distribution of Flower Types in the Iris Dataset')\n",
    "plt.xlabel('Flower Type')\n",
    "plt.ylabel('Number of Samples')\n",
    "plt.show()"
   ]
  },
  {
   "cell_type": "markdown",
   "metadata": {},
   "source": [
    "## 5. Splitting the Dataset\n",
    "\n",
    "We will split the dataset into two parts:\n",
    "\n",
    "  - Training data: This is used to teach the model.\n",
    "  - Testing data: This is used to test how well the model learned."
   ]
  },
  {
   "cell_type": "code",
   "execution_count": 25,
   "metadata": {},
   "outputs": [
    {
     "name": "stdout",
     "output_type": "stream",
     "text": [
      "Training data size: 120\n",
      "Testing data size: 30\n"
     ]
    }
   ],
   "source": [
    "# Split the data into training (80%) and testing (20%) sets\n",
    "X_train, X_test, y_train, y_test = train_test_split(X, y, test_size=0.2, random_state=42)\n",
    "\n",
    "print(\"Training data size:\", len(X_train))\n",
    "print(\"Testing data size:\", len(X_test))"
   ]
  },
  {
   "cell_type": "markdown",
   "metadata": {},
   "source": [
    "## 6. Train the k-NN Classifier\n",
    "\n",
    "Now, we will train the k-NN model using the training data. We’ll set k = 3, which means the model will look at the 3 closest neighbors to make a prediction."
   ]
  },
  {
   "cell_type": "code",
   "execution_count": 26,
   "metadata": {},
   "outputs": [
    {
     "name": "stdout",
     "output_type": "stream",
     "text": [
      "Model trained!\n"
     ]
    }
   ],
   "source": [
    "# Create the k-NN classifier with k=3 (3 nearest neighbors)\n",
    "knn = KNeighborsClassifier(n_neighbors=3)\n",
    "\n",
    "# Train the model\n",
    "knn.fit(X_train, y_train)\n",
    "\n",
    "print(\"Model trained!\")"
   ]
  },
  {
   "cell_type": "markdown",
   "metadata": {},
   "source": [
    "## 8. Make Predictions\n",
    "\n",
    "Now that the model is trained, we can make predictions on the test data and see how well it performs."
   ]
  },
  {
   "cell_type": "code",
   "execution_count": 27,
   "metadata": {},
   "outputs": [
    {
     "name": "stdout",
     "output_type": "stream",
     "text": [
      "Predictions:   [1 0 2 1 1 0 1 2 1 1 2 0 0 0 0 1 2 1 1 2 0 2 0 2 2 2 2 2 0 0]\n",
      "Actual labels: [1 0 2 1 1 0 1 2 1 1 2 0 0 0 0 1 2 1 1 2 0 2 0 2 2 2 2 2 0 0]\n"
     ]
    }
   ],
   "source": [
    "# Predict the flower type for the test data\n",
    "y_pred = knn.predict(X_test)\n",
    "\n",
    "print(\"Predictions:  \", y_pred)\n",
    "print(\"Actual labels:\", y_test)"
   ]
  },
  {
   "cell_type": "markdown",
   "metadata": {},
   "source": [
    "### Test with your data for making prediction"
   ]
  },
  {
   "cell_type": "code",
   "execution_count": 28,
   "metadata": {},
   "outputs": [
    {
     "name": "stdout",
     "output_type": "stream",
     "text": [
      "The predicted flower type is: virginica\n"
     ]
    }
   ],
   "source": [
    "# Ask user for input parameters\n",
    "sepal_length = float(input(\"Enter sepal length (in cm): \"))\n",
    "sepal_width = float(input(\"Enter sepal width (in cm): \"))\n",
    "petal_length = float(input(\"Enter petal length (in cm): \"))\n",
    "petal_width = float(input(\"Enter petal width (in cm): \"))\n",
    "\n",
    "# Create a numpy array with the input values\n",
    "user_input = np.array([[sepal_length, sepal_width, petal_length, petal_width]])\n",
    "\n",
    "# Make a prediction using the trained k-NN model\n",
    "user_prediction = knn.predict(user_input)\n",
    "\n",
    "# Map the prediction to the corresponding flower name\n",
    "predicted_flower = iris.target_names[user_prediction][0]\n",
    "\n",
    "print(f\"The predicted flower type is: {predicted_flower}\")"
   ]
  },
  {
   "cell_type": "markdown",
   "metadata": {},
   "source": [
    "## 9. Evaluate the Model\n",
    "\n",
    "Let’s check how accurate our model is by comparing the predicted flower types to the actual ones."
   ]
  },
  {
   "cell_type": "code",
   "execution_count": 29,
   "metadata": {},
   "outputs": [
    {
     "name": "stdout",
     "output_type": "stream",
     "text": [
      "Accuracy: 100.00%\n"
     ]
    }
   ],
   "source": [
    "# Calculate accuracy: the percentage of correct predictions\n",
    "accuracy = accuracy_score(y_test, y_pred)\n",
    "print(f\"Accuracy: {accuracy * 100:.2f}%\")"
   ]
  },
  {
   "cell_type": "markdown",
   "metadata": {},
   "source": [
    "## 10. Try with Different Values of k\n",
    "\n",
    "The number k (the number of neighbors) can affect how well the model works. Try changing k to see if it improves the accuracy!"
   ]
  },
  {
   "cell_type": "code",
   "execution_count": 30,
   "metadata": {},
   "outputs": [
    {
     "name": "stdout",
     "output_type": "stream",
     "text": [
      "Accuracy with k=5: 100.00%\n"
     ]
    }
   ],
   "source": [
    "# Try with k=5\n",
    "knn = KNeighborsClassifier(n_neighbors=5)\n",
    "knn.fit(X_train, y_train)\n",
    "y_pred = knn.predict(X_test)\n",
    "accuracy = accuracy_score(y_test, y_pred)\n",
    "print(f\"Accuracy with k=5: {accuracy * 100:.2f}%\")"
   ]
  },
  {
   "cell_type": "markdown",
   "metadata": {},
   "source": [
    "In this notebook, we learned about the k-Nearest Neighbors (k-NN) algorithm. We trained a model to classify flowers based on measurements, and we saw how changing the number of neighbors (k) can impact the accuracy.\n",
    "\n",
    "We also visualized the distribution of the different flower types in the Iris dataset using a bar chart.\n",
    "\n",
    "You can try this on different datasets and explore more ways to use k-NN for other tasks like recommendation systems, image recognition, and more!"
   ]
  },
  {
   "cell_type": "markdown",
   "metadata": {},
   "source": [
    "---"
   ]
  }
 ],
 "metadata": {
  "kernelspec": {
   "display_name": "base",
   "language": "python",
   "name": "python3"
  },
  "language_info": {
   "codemirror_mode": {
    "name": "ipython",
    "version": 3
   },
   "file_extension": ".py",
   "mimetype": "text/x-python",
   "name": "python",
   "nbconvert_exporter": "python",
   "pygments_lexer": "ipython3",
   "version": "3.10.6"
  }
 },
 "nbformat": 4,
 "nbformat_minor": 2
}
