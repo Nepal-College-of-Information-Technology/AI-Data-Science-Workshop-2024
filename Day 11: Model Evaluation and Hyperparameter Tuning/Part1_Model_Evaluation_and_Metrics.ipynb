{
 "cells": [
  {
   "cell_type": "markdown",
   "metadata": {},
   "source": [
    "[![Open In Colab](https://colab.research.google.com/assets/colab-badge.svg)](https://colab.research.google.com/github/Nepal-College-of-Information-Technology/AI-Data-Science-Workshop-2024/blob/main/Day%2011%3A%20Model%20Evaluation%20and%20Hyperparameter%20Tuning/Part1_Model_Evaluation_and_Metrics.ipynb)\n"
   ]
  },
  {
   "cell_type": "markdown",
   "metadata": {},
   "source": [
    "# Part 1: Model Evaluation and Metrics\n",
    "\n",
    "In this notebook, we will explore how to evaluate machine learning models using performance metrics such as accuracy, precision, recall, and F1-score. We will also learn how to interpret a **confusion matrix** and why it is important for classification tasks.\n",
    "\n",
    "---\n",
    "\n",
    "## Step 1: Import Libraries and Load Dataset\n",
    "\n",
    "We will use the **breast cancer dataset** from `sklearn.datasets`, a binary classification dataset, to evaluate a simple model."
   ]
  },
  {
   "cell_type": "code",
   "execution_count": 1,
   "metadata": {},
   "outputs": [
    {
     "name": "stdout",
     "output_type": "stream",
     "text": [
      ".. _breast_cancer_dataset:\n",
      "\n",
      "Breast cancer wisconsin (diagnostic) dataset\n",
      "--------------------------------------------\n",
      "\n",
      "**Data Set Characteristics:**\n",
      "\n",
      ":Number of Instances: 569\n",
      "\n",
      ":Number of Attributes: 30 numeric, predictive attributes and the class\n",
      "\n",
      ":Attribute Information:\n",
      "    - radius (mean of distances from center to points on the perimeter)\n",
      "    - texture (standard deviation of gray-scale values)\n",
      "    - perimeter\n",
      "    - area\n",
      "    - smoothness (local variation in radius lengths)\n",
      "    - compactness (perimeter^2 / area - 1.0)\n",
      "    - concavity (severity of concave portions of the contour)\n",
      "    - concave points (number of concave portions of the contour)\n",
      "    - symmetry\n",
      "    - fractal dimension (\"coastline approximation\" - 1)\n",
      "\n",
      "    The mean, standard error, and \"worst\" or largest (mean of the three\n",
      "    worst/largest values) of these features were computed for each image,\n",
      "    resulting in 30 features.  For instance, field 0 is Mean Radius, field\n",
      "    10 is Radius SE, field 20 is Worst Radius.\n",
      "\n",
      "    - class:\n",
      "            - WDBC-Malignant\n",
      "            - WDBC-Benign\n",
      "\n",
      ":Summary Statistics:\n",
      "\n",
      "===================================== ====== ======\n",
      "                                        Min    Max\n",
      "===================================== ====== ======\n",
      "radius (mean):                        6.981  28.11\n",
      "texture (mean):                       9.71   39.28\n",
      "perimeter (mean):                     43.79  188.5\n",
      "area (mean):                          143.5  2501.0\n",
      "smoothness (mean):                    0.053  0.163\n",
      "compactness (mean):                   0.019  0.345\n",
      "concavity (mean):                     0.0    0.427\n",
      "concave points (mean):                0.0    0.201\n",
      "symmetry (mean):                      0.106  0.304\n",
      "fractal dimension (mean):             0.05   0.097\n",
      "radius (standard error):              0.112  2.873\n",
      "texture (standard error):             0.36   4.885\n",
      "perimeter (standard error):           0.757  21.98\n",
      "area (standard error):                6.802  542.2\n",
      "smoothness (standard error):          0.002  0.031\n",
      "compactness (standard error):         0.002  0.135\n",
      "concavity (standard error):           0.0    0.396\n",
      "concave points (standard error):      0.0    0.053\n",
      "symmetry (standard error):            0.008  0.079\n",
      "fractal dimension (standard error):   0.001  0.03\n",
      "radius (worst):                       7.93   36.04\n",
      "texture (worst):                      12.02  49.54\n",
      "perimeter (worst):                    50.41  251.2\n",
      "area (worst):                         185.2  4254.0\n",
      "smoothness (worst):                   0.071  0.223\n",
      "compactness (worst):                  0.027  1.058\n",
      "concavity (worst):                    0.0    1.252\n",
      "concave points (worst):               0.0    0.291\n",
      "symmetry (worst):                     0.156  0.664\n",
      "fractal dimension (worst):            0.055  0.208\n",
      "===================================== ====== ======\n",
      "\n",
      ":Missing Attribute Values: None\n",
      "\n",
      ":Class Distribution: 212 - Malignant, 357 - Benign\n",
      "\n",
      ":Creator:  Dr. William H. Wolberg, W. Nick Street, Olvi L. Mangasarian\n",
      "\n",
      ":Donor: Nick Street\n",
      "\n",
      ":Date: November, 1995\n",
      "\n",
      "This is a copy of UCI ML Breast Cancer Wisconsin (Diagnostic) datasets.\n",
      "https://goo.gl/U2Uwz2\n",
      "\n",
      "Features are computed from a digitized image of a fine needle\n",
      "aspirate (FNA) of a breast mass.  They describe\n",
      "characteristics of the cell nuclei present in the image.\n",
      "\n",
      "Separating plane described above was obtained using\n",
      "Multisurface Method-Tree (MSM-T) [K. P. Bennett, \"Decision Tree\n",
      "Construction Via Linear Programming.\" Proceedings of the 4th\n",
      "Midwest Artificial Intelligence and Cognitive Science Society,\n",
      "pp. 97-101, 1992], a classification method which uses linear\n",
      "programming to construct a decision tree.  Relevant features\n",
      "were selected using an exhaustive search in the space of 1-4\n",
      "features and 1-3 separating planes.\n",
      "\n",
      "The actual linear program used to obtain the separating plane\n",
      "in the 3-dimensional space is that described in:\n",
      "[K. P. Bennett and O. L. Mangasarian: \"Robust Linear\n",
      "Programming Discrimination of Two Linearly Inseparable Sets\",\n",
      "Optimization Methods and Software 1, 1992, 23-34].\n",
      "\n",
      "This database is also available through the UW CS ftp server:\n",
      "\n",
      "ftp ftp.cs.wisc.edu\n",
      "cd math-prog/cpo-dataset/machine-learn/WDBC/\n",
      "\n",
      ".. dropdown:: References\n",
      "\n",
      "  - W.N. Street, W.H. Wolberg and O.L. Mangasarian. Nuclear feature extraction\n",
      "    for breast tumor diagnosis. IS&T/SPIE 1993 International Symposium on\n",
      "    Electronic Imaging: Science and Technology, volume 1905, pages 861-870,\n",
      "    San Jose, CA, 1993.\n",
      "  - O.L. Mangasarian, W.N. Street and W.H. Wolberg. Breast cancer diagnosis and\n",
      "    prognosis via linear programming. Operations Research, 43(4), pages 570-577,\n",
      "    July-August 1995.\n",
      "  - W.H. Wolberg, W.N. Street, and O.L. Mangasarian. Machine learning techniques\n",
      "    to diagnose breast cancer from fine-needle aspirates. Cancer Letters 77 (1994)\n",
      "    163-171.\n",
      "\n"
     ]
    }
   ],
   "source": [
    "# Import necessary libraries\n",
    "import pandas as pd\n",
    "from sklearn.model_selection import train_test_split\n",
    "from sklearn.metrics import confusion_matrix, classification_report\n",
    "from sklearn.ensemble import RandomForestClassifier\n",
    "from sklearn.datasets import load_breast_cancer\n",
    "\n",
    "# Load the breast cancer dataset (binary classification)\n",
    "data = load_breast_cancer()\n",
    "X = data['data']\n",
    "y = data['target']\n",
    "\n",
    "# Split the data into training and test sets\n",
    "X_train, X_test, y_train, y_test = train_test_split(X, y, test_size=0.2, random_state=42)\n",
    "\n",
    "# Display the dataset description\n",
    "print(data['DESCR'])"
   ]
  },
  {
   "cell_type": "markdown",
   "metadata": {},
   "source": [
    "---\n",
    "\n",
    "## Step 2: Train a Simple Model\n",
    "\n",
    "We will use a **RandomForestClassifier** to train a model on the training data. After training, we will evaluate the model on the test set."
   ]
  },
  {
   "cell_type": "code",
   "execution_count": 2,
   "metadata": {},
   "outputs": [
    {
     "name": "stdout",
     "output_type": "stream",
     "text": [
      "Classification Report:\n",
      "              precision    recall  f1-score   support\n",
      "\n",
      "           0       0.98      0.93      0.95        43\n",
      "           1       0.96      0.99      0.97        71\n",
      "\n",
      "    accuracy                           0.96       114\n",
      "   macro avg       0.97      0.96      0.96       114\n",
      "weighted avg       0.97      0.96      0.96       114\n",
      "\n",
      "Confusion Matrix:\n",
      "[[40  3]\n",
      " [ 1 70]]\n"
     ]
    }
   ],
   "source": [
    "# Train a RandomForest model\n",
    "model = RandomForestClassifier(random_state=42)\n",
    "model.fit(X_train, y_train)\n",
    "\n",
    "# Predict on the test set\n",
    "y_pred = model.predict(X_test)\n",
    "\n",
    "# Print the classification report and confusion matrix\n",
    "print(\"Classification Report:\")\n",
    "print(classification_report(y_test, y_pred))\n",
    "\n",
    "print(\"Confusion Matrix:\")\n",
    "print(confusion_matrix(y_test, y_pred))"
   ]
  },
  {
   "cell_type": "markdown",
   "metadata": {},
   "source": [
    "---\n",
    "\n",
    "## Step 3: Understanding the Confusion Matrix\n",
    "\n",
    "A **confusion matrix** is used to evaluate the performance of a classification model by comparing the predicted labels with the actual labels. It consists of four components:\n",
    "\n",
    "1. **True Positives (TP)**: Correctly predicted positive observations.\n",
    "2. **True Negatives (TN)**: Correctly predicted negative observations.\n",
    "3. **False Positives (FP)**: Incorrectly predicted positive observations (also known as Type I error).\n",
    "4. **False Negatives (FN)**: Incorrectly predicted negative observations (also known as Type II error).\n",
    "\n",
    "The confusion matrix is usually displayed in the following format:\n",
    "\n",
    "|                | Predicted Positive | Predicted Negative |\n",
    "|----------------|-------------------|-------------------|\n",
    "| **Actual Positive** | True Positive (TP) | False Negative (FN) |\n",
    "| **Actual Negative** | False Positive (FP) | True Negative (TN) |\n",
    "\n",
    "### Real-world Example:\n",
    "If you are building a spam classifier:\n",
    "- **True Positive (TP)**: Correctly predicted a spam email as spam.\n",
    "- **False Positive (FP)**: Incorrectly predicted a non-spam email as spam.\n",
    "- **True Negative (TN)**: Correctly predicted a non-spam email as non-spam.\n",
    "- **False Negative (FN)**: Incorrectly predicted a spam email as non-spam.\n",
    "\n",
    "---\n",
    "\n",
    "## Step 4: Model Evaluation Metrics\n",
    "\n",
    "### 1. **Accuracy**:\n",
    "Accuracy is the percentage of correct predictions:\n",
    "\n",
    "$$Accuracy = \\frac{TP + TN}{TP + TN + FP + FN}$$\n",
    "\n",
    "### 2. **Precision**:\n",
    "Precision is the percentage of correctly predicted positive observations out of all predicted positives:\n",
    "$$ Precision = \\frac{TP}{TP + FP} $$\n",
    "\n",
    "### 3. **Recall**:\n",
    "Recall (also known as Sensitivity) is the percentage of correctly predicted positive observations out of all actual positives:\n",
    "$$ Recall = \\frac{TP}{TP + FN} $$\n",
    "\n",
    "### 4. **F1 Score**:\n",
    "The F1 score is the harmonic mean of precision and recall:\n",
    "$$ F1 Score = 2 \\times \\frac{Precision \\times Recall}{Precision + Recall} $$\n",
    "\n",
    "These metrics help us understand how well our model is performing in different scenarios, especially in cases where the data is imbalanced."
   ]
  },
  {
   "cell_type": "markdown",
   "metadata": {},
   "source": [
    "---\n",
    "\n",
    "## Step 5: Evaluate the Model using Cross-Validation\n",
    "\n",
    "Now, let's use **cross-validation** to evaluate the model more reliably by splitting the dataset multiple times."
   ]
  },
  {
   "cell_type": "code",
   "execution_count": 3,
   "metadata": {},
   "outputs": [
    {
     "name": "stdout",
     "output_type": "stream",
     "text": [
      "Cross-Validation Accuracy Scores: [0.92105263 0.93859649 0.98245614 0.96491228 0.97345133]\n",
      "Mean Accuracy: 0.9560937742586555\n"
     ]
    }
   ],
   "source": [
    "from sklearn.model_selection import cross_val_score\n",
    "\n",
    "# Use cross-validation to evaluate the model\n",
    "cv_scores = cross_val_score(model, X, y, cv=5)\n",
    "print(f\"Cross-Validation Accuracy Scores: {cv_scores}\")\n",
    "print(f\"Mean Accuracy: {cv_scores.mean()}\")"
   ]
  },
  {
   "cell_type": "markdown",
   "metadata": {},
   "source": [
    "---\n",
    "### Comparing the model performance\n",
    "#### Before and After the cross validation"
   ]
  },
  {
   "cell_type": "code",
   "execution_count": 7,
   "metadata": {},
   "outputs": [
    {
     "name": "stdout",
     "output_type": "stream",
     "text": [
      "Accuracy Before Cross-Validation: 0.9649\n"
     ]
    }
   ],
   "source": [
    "# Train a RandomForest model before cross-validation\n",
    "model = RandomForestClassifier(random_state=42)\n",
    "model.fit(X_train, y_train)\n",
    "\n",
    "# Predict on the test set\n",
    "y_pred = model.predict(X_test)\n",
    "\n",
    "accuracy_before_cv = model.score(X_test, y_test)\n",
    "print(f\"Accuracy Before Cross-Validation: {accuracy_before_cv:.4f}\")"
   ]
  },
  {
   "cell_type": "code",
   "execution_count": 8,
   "metadata": {},
   "outputs": [
    {
     "name": "stdout",
     "output_type": "stream",
     "text": [
      "Cross-Validation Accuracy for each fold: [0.92105263 0.93859649 0.98245614 0.96491228 0.97345133]\n",
      "Mean Accuracy After Cross-Validation: 0.9561\n"
     ]
    }
   ],
   "source": [
    "from sklearn.model_selection import cross_val_score\n",
    "\n",
    "# Perform cross-validation with 5 folds\n",
    "cv_scores = cross_val_score(model, X, y, cv=5)\n",
    "\n",
    "# Print the cross-validation accuracy for each fold\n",
    "print(f\"Cross-Validation Accuracy for each fold: {cv_scores}\")\n",
    "\n",
    "# Calculate the mean accuracy after cross-validation\n",
    "accuracy_after_cv = cv_scores.mean()\n",
    "print(f\"Mean Accuracy After Cross-Validation: {accuracy_after_cv:.4f}\")"
   ]
  },
  {
   "cell_type": "code",
   "execution_count": 9,
   "metadata": {},
   "outputs": [
    {
     "name": "stdout",
     "output_type": "stream",
     "text": [
      "Accuracy Before Cross-Validation: 0.9649\n",
      "Mean Accuracy After Cross-Validation: 0.9561\n",
      "The model performed better before cross-validation, indicating potential overfitting.\n"
     ]
    }
   ],
   "source": [
    "print(f\"Accuracy Before Cross-Validation: {accuracy_before_cv:.4f}\")\n",
    "print(f\"Mean Accuracy After Cross-Validation: {accuracy_after_cv:.4f}\")\n",
    "\n",
    "if accuracy_before_cv > accuracy_after_cv:\n",
    "    print(\"The model performed better before cross-validation, indicating potential overfitting.\")\n",
    "else:\n",
    "    print(\"The model performed better or more consistently after cross-validation, indicating improved generalization.\")"
   ]
  },
  {
   "cell_type": "markdown",
   "metadata": {},
   "source": [
    "### The ROC (Receiver Operating Characteristic) curve\n",
    "\n",
    "To compare the model performance before and after cross-validation using the ROC (Receiver Operating Characteristic) curve, we can plot the ROC curve for both cases. The ROC curve is a plot that shows the true positive rate (TPR) against the false positive rate (FPR) at various threshold levels, and the AUC (Area Under the Curve) score can help summarize the performance."
   ]
  },
  {
   "cell_type": "code",
   "execution_count": 10,
   "metadata": {},
   "outputs": [],
   "source": [
    "import matplotlib.pyplot as plt\n",
    "from sklearn.metrics import roc_curve, auc\n",
    "from sklearn.model_selection import cross_val_predict\n",
    "\n",
    "# Import additional libraries for ROC curve and AUC\n",
    "from sklearn.metrics import roc_auc_score"
   ]
  },
  {
   "cell_type": "code",
   "execution_count": 11,
   "metadata": {},
   "outputs": [
    {
     "name": "stdout",
     "output_type": "stream",
     "text": [
      "AUC Before Cross-Validation: 0.9953\n"
     ]
    }
   ],
   "source": [
    "# Predict probabilities for the test set\n",
    "y_pred_proba_before_cv = model.predict_proba(X_test)[:, 1]\n",
    "\n",
    "# Calculate FPR, TPR, and thresholds for ROC curve\n",
    "fpr_before_cv, tpr_before_cv, thresholds_before_cv = roc_curve(y_test, y_pred_proba_before_cv)\n",
    "\n",
    "# Calculate the AUC score\n",
    "auc_before_cv = auc(fpr_before_cv, tpr_before_cv)\n",
    "print(f\"AUC Before Cross-Validation: {auc_before_cv:.4f}\")"
   ]
  },
  {
   "cell_type": "code",
   "execution_count": 12,
   "metadata": {},
   "outputs": [
    {
     "name": "stdout",
     "output_type": "stream",
     "text": [
      "AUC After Cross-Validation: 0.9912\n"
     ]
    }
   ],
   "source": [
    "# Use cross_val_predict to get predicted probabilities from cross-validation\n",
    "y_pred_proba_after_cv = cross_val_predict(model, X, y, cv=5, method='predict_proba')[:, 1]\n",
    "\n",
    "# Calculate FPR, TPR, and thresholds for ROC curve\n",
    "fpr_after_cv, tpr_after_cv, thresholds_after_cv = roc_curve(y, y_pred_proba_after_cv)\n",
    "\n",
    "# Calculate the AUC score\n",
    "auc_after_cv = auc(fpr_after_cv, tpr_after_cv)\n",
    "print(f\"AUC After Cross-Validation: {auc_after_cv:.4f}\")"
   ]
  },
  {
   "cell_type": "code",
   "execution_count": 13,
   "metadata": {},
   "outputs": [
    {
     "data": {
      "image/png": "[encoded data removed]",
      "text/plain": [
       "<Figure size 800x600 with 1 Axes>"
      ]
     },
     "metadata": {},
     "output_type": "display_data"
    }
   ],
   "source": [
    "# Plot the ROC curves\n",
    "plt.figure(figsize=(8, 6))\n",
    "\n",
    "# ROC curve for before cross-validation\n",
    "plt.plot(fpr_before_cv, tpr_before_cv, color='blue', label=f'Before Cross-Validation (AUC = {auc_before_cv:.4f})')\n",
    "\n",
    "# ROC curve for after cross-validation\n",
    "plt.plot(fpr_after_cv, tpr_after_cv, color='green', label=f'After Cross-Validation (AUC = {auc_after_cv:.4f})')\n",
    "\n",
    "# Plot settings\n",
    "plt.plot([0, 1], [0, 1], color='gray', linestyle='--')  # Diagonal line\n",
    "plt.xlim([0.0, 1.0])\n",
    "plt.ylim([0.0, 1.05])\n",
    "plt.xlabel('False Positive Rate')\n",
    "plt.ylabel('True Positive Rate')\n",
    "plt.title('ROC Curve Comparison: Before vs After Cross-Validation')\n",
    "plt.legend(loc=\"lower right\")\n",
    "plt.grid()\n",
    "\n",
    "# Show the plot\n",
    "plt.show()"
   ]
  },
  {
   "cell_type": "markdown",
   "metadata": {},
   "source": [
    "#### Why is the Model Performing Better Before Cross-Validation?\n",
    "\n",
    "1.\tOverfitting on the Train-Test Split:\n",
    "- The model may be overfitting to the training set in the original train-test split. This means the model is capturing noise or irrelevant patterns in the training data, leading to higher accuracy or AUC on that specific test set.\n",
    "- However, this “better” performance is often misleading because it doesn’t reflect the model’s ability to generalize to unseen data.\n",
    "2.\tCross-Validation Performance:\n",
    "- Cross-validation provides a more robust estimate of the model’s performance by testing it on multiple different subsets of the data. If the performance after cross-validation is lower, it suggests the model was overfitting to the initial training set and doesn’t generalize as well across different splits of the data.\n",
    "- Cross-validation helps reveal how well the model is expected to perform in practice, especially on unseen data.\n"
   ]
  },
  {
   "cell_type": "markdown",
   "metadata": {},
   "source": [
    "---\n",
    "\n",
    "### Conclusion\n",
    "\n",
    "In this notebook, we learned how to evaluate a model using a **confusion matrix** and important metrics such as **accuracy**, **precision**, **recall**, and **F1-score**. We also performed **cross-validation** to get a more reliable evaluation of the model's performance.\n",
    "\n",
    "While it may seem that the model performed better before cross-validation, the true generalization performance of the model is better represented after cross-validation. This is because cross-validation prevents overfitting by evaluating the model on multiple splits of the data. The goal should be to optimize the model to perform well across all data, not just a single test set.\n",
    "\n",
    "In the next notebook, we will perform **hyperparameter tuning** to optimize the model and improve its performance."
   ]
  },
  {
   "cell_type": "markdown",
   "metadata": {},
   "source": []
  }
 ],
 "metadata": {
  "kernelspec": {
   "display_name": "base",
   "language": "python",
   "name": "python3"
  },
  "language_info": {
   "codemirror_mode": {
    "name": "ipython",
    "version": 3
   },
   "file_extension": ".py",
   "mimetype": "text/x-python",
   "name": "python",
   "nbconvert_exporter": "python",
   "pygments_lexer": "ipython3",
   "version": "3.10.6"
  }
 },
 "nbformat": 4,
 "nbformat_minor": 2
}
