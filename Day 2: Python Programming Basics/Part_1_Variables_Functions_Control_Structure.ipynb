{
 "cells": [
  {
   "cell_type": "markdown",
   "id": "53937286",
   "metadata": {},
   "source": [
    "\n",
    "# Python Programming Basics - Session 1\n",
    "## Variables, Data Types, Functions, and Control Structures\n",
    "\n",
    "In this session, we will dive deep into:\n",
    "1. Variables and Data Types\n",
    "2. Functions and Scope\n",
    "3. Control Structures (if-else, loops)\n",
    "\n",
    "---\n"
   ]
  },
  {
   "cell_type": "markdown",
   "id": "2265e107",
   "metadata": {},
   "source": [
    "## 1. Variables and Data Types\n",
    "\n",
    "Variables in Python are containers for storing data values. Python has several standard data types such as:\n",
    "- **int**: integers\n",
    "- **float**: floating-point numbers\n",
    "- **str**: strings\n",
    "- **list**: ordered collections of items\n",
    "- **tuple**: immutable ordered collections of items\n",
    "- **dict**: collections of key-value pairs\n",
    "- **set**: unordered collections of unique items\n",
    "\n",
    "---\n",
    "\n"
   ]
  },
  {
   "cell_type": "markdown",
   "id": "4adc7bfe",
   "metadata": {},
   "source": [
    "### **List**\n",
    "A **list** is a mutable (changeable) ordered collection of items. Lists allow duplicate elements, and they are one of the most commonly used data types.\n",
    "\n",
    "#### Example:\n",
    "\n",
    "```python\n",
    "# Defining a list\n",
    "my_list = [1, 2, 3, 4]\n",
    "\n",
    "# Accessing elements\n",
    "print(\"First element:\", my_list[0])\n",
    "print(\"Last element:\", my_list[-1])\n",
    "\n",
    "# Modifying a list\n",
    "my_list.append(5)  # Adding an element\n",
    "my_list[1] = 20    # Changing an element\n",
    "\n",
    "# Removing an element\n",
    "my_list.remove(3)\n",
    "\n",
    "# Slicing a list\n",
    "print(\"Slice of list:\", my_list[1:3])  # Elements from index 1 to 2 (excluding 3)\n",
    "```\n",
    "\n"
   ]
  },
  {
   "cell_type": "code",
   "execution_count": null,
   "id": "6a6cad22",
   "metadata": {},
   "outputs": [],
   "source": [
    "# code practice "
   ]
  },
  {
   "cell_type": "markdown",
   "id": "2ab8411f",
   "metadata": {},
   "source": [
    "#### Key Functions and Methods:\n",
    "- `append()`: Adds an item to the end of the list.\n",
    "- `remove()`: Removes a specific item from the list.\n",
    "- `pop()`: Removes and returns the last item in the list.\n",
    "- `len()`: Returns the length of the list.\n",
    "  \n",
    "---\n",
    "\n"
   ]
  },
  {
   "cell_type": "code",
   "execution_count": 1,
   "id": "78b040b5",
   "metadata": {},
   "outputs": [],
   "source": [
    "# code pracitce "
   ]
  },
  {
   "cell_type": "markdown",
   "id": "8628245d",
   "metadata": {},
   "source": [
    "### **Tuple**\n",
    "A **tuple** is similar to a list, but it is immutable, meaning once created, the elements in a tuple cannot be changed. Tuples are often used when data should not be modified.\n",
    "\n",
    "#### Example:\n",
    "```python\n",
    "# Defining a tuple\n",
    "my_tuple = (1, 2, 3, 4)\n",
    "\n",
    "# Accessing elements\n",
    "print(\"First element:\", my_tuple[0])\n",
    "\n",
    "# Slicing a tuple\n",
    "print(\"Slice of tuple:\", my_tuple[1:3])\n",
    "```\n"
   ]
  },
  {
   "cell_type": "code",
   "execution_count": 2,
   "id": "eb38b83a",
   "metadata": {},
   "outputs": [],
   "source": [
    "# code pracitce "
   ]
  },
  {
   "cell_type": "markdown",
   "id": "a62edde9",
   "metadata": {},
   "source": [
    "#### Key Characteristics:\n",
    "- Tuples are immutable, meaning you cannot change, add, or remove elements after the tuple is created.\n",
    "- Tuples can be used as keys in dictionaries, whereas lists cannot.\n",
    "\n",
    "---\n"
   ]
  },
  {
   "cell_type": "markdown",
   "id": "c0db7846",
   "metadata": {},
   "source": [
    "### **Dictionary**\n",
    "A **dictionary** is an unordered collection of key-value pairs. Each key must be unique, and it maps to a value.\n",
    "\n",
    "#### Example:\n",
    "```python\n",
    "# Defining a dictionary\n",
    "my_dict = {\"name\": \"Manish\", \"age\": 20, \"city\": \"Damauli\"}\n",
    "\n",
    "# Accessing values by key\n",
    "print(\"Name:\", my_dict[\"name\"])\n",
    "print(\"Age:\", my_dict.get(\"age\"))\n",
    "\n",
    "# Modifying a dictionary\n",
    "my_dict[\"age\"] = 26  # Changing the value for an existing key\n",
    "my_dict[\"email\"] = \"manishpdl@gmail.com\"  # Adding a new key-value pair\n",
    "\n",
    "# Removing a key-value pair\n",
    "my_dict.pop(\"city\")\n",
    "```\n",
    "\n"
   ]
  },
  {
   "cell_type": "code",
   "execution_count": 3,
   "id": "d21b5002",
   "metadata": {},
   "outputs": [],
   "source": [
    "# code pracitce "
   ]
  },
  {
   "cell_type": "markdown",
   "id": "ef202e64",
   "metadata": {},
   "source": [
    "#### Key Functions and Methods:\n",
    "- `get()`: Returns the value for a specified key.\n",
    "- `pop()`: Removes the item with the specified key.\n",
    "- `keys()`: Returns a list of all the keys in the dictionary.\n",
    "- `values()`: Returns a list of all the values in the dictionary.\n",
    "  \n",
    "### Activity:\n",
    "- Define a list, tuple, and dictionary. Practice accessing, modifying (if possible), and printing elements.\n",
    "  \n",
    "---\n",
    "\n",
    "## 2. Functions and Scope\n",
    "\n",
    "A **function** is a block of reusable code that performs a specific task. Functions help us organize our code better.\n",
    "\n",
    "### Function Example:\n",
    "```python\n",
    "def greet(name, greeting=\"Hello\"):\n",
    "    return f\"{greeting}, {name}!\"\n",
    "\n",
    "print(greet(\"Dipendra\"))\n",
    "print(greet(\"Mamta\", \"Good morning\"))\n",
    "```\n",
    "\n"
   ]
  },
  {
   "cell_type": "code",
   "execution_count": 7,
   "id": "0dc9a60b",
   "metadata": {},
   "outputs": [],
   "source": [
    "# code pracitce "
   ]
  },
  {
   "cell_type": "markdown",
   "id": "6b77bb35",
   "metadata": {},
   "source": [
    "### Function Scope:\n",
    "- **Local Scope**: Variables defined inside a function are only accessible within that function.\n",
    "- **Global Scope**: Variables defined outside any function are accessible throughout the entire program.\n",
    "\n",
    "### Example:\n",
    "```python\n",
    "global_var = \"I'm global!\"\n",
    "\n",
    "def my_function():\n",
    "    local_var = \"I'm local!\"\n",
    "    print(global_var)  # Can access global variables inside a function\n",
    "    print(local_var)   # Local variable, accessible only inside this function\n",
    "\n",
    "my_function()\n",
    "# print(local_var)  # This will give an error since local_var is not accessible outside the function\n",
    "```\n",
    "\n",
    "### Activity:\n",
    "- Write a function that takes two numbers as input and returns their product.\n",
    "- Experiment with local and global variables by defining them both inside and outside the function.\n",
    "\n",
    "---"
   ]
  },
  {
   "cell_type": "code",
   "execution_count": 5,
   "id": "99640ccb",
   "metadata": {},
   "outputs": [],
   "source": [
    "# code pracitce "
   ]
  },
  {
   "cell_type": "markdown",
   "id": "4bdc7dcd",
   "metadata": {},
   "source": [
    "## 3. Control Structures\n",
    "\n",
    "### If-else Statements:\n",
    "If-else statements help execute a block of code based on a condition.\n",
    "\n",
    "### Example:\n",
    "```python\n",
    "number = int(input(\"Enter a number: \"))\n",
    "\n",
    "if number > 0:\n",
    "    print(\"Positive number\")\n",
    "elif number < 0:\n",
    "    print(\"Negative number\")\n",
    "else:\n",
    "    print(\"Zero\")\n",
    "```\n",
    "\n",
    "### Activity:\n",
    "- Write a program that checks whether a given number is even or odd.\n",
    "\n",
    "---\n",
    "\n"
   ]
  },
  {
   "cell_type": "code",
   "execution_count": 8,
   "id": "c720194d",
   "metadata": {},
   "outputs": [],
   "source": [
    "# code pracitce "
   ]
  },
  {
   "cell_type": "markdown",
   "id": "566159f1",
   "metadata": {},
   "source": [
    "### Loops:\n",
    "Loops help us repeat a block of code multiple times.\n",
    "\n",
    "#### For Loop Example:\n",
    "```python\n",
    "for i in range(1, 6):\n",
    "    print(i)\n",
    "```\n",
    "\n",
    "#### While Loop Example:\n",
    "```python\n",
    "i = 1\n",
    "while i <= 5:\n",
    "    print(i)\n",
    "    i += 1\n",
    "```\n",
    "\n",
    "### Activity:\n",
    "- Write a program that prints all the even numbers between 1 and 10 using a loop.\n",
    "- Write a program that prints the multiplication table for a given number.\n"
   ]
  },
  {
   "cell_type": "code",
   "execution_count": 9,
   "id": "76433d7b",
   "metadata": {},
   "outputs": [],
   "source": [
    "# code pracitce "
   ]
  },
  {
   "cell_type": "markdown",
   "id": "48fca6de",
   "metadata": {},
   "source": [
    "---\n",
    "---"
   ]
  }
 ],
 "metadata": {
  "kernelspec": {
   "display_name": "base",
   "language": "python",
   "name": "python3"
  },
  "language_info": {
   "codemirror_mode": {
    "name": "ipython",
    "version": 3
   },
   "file_extension": ".py",
   "mimetype": "text/x-python",
   "name": "python",
   "nbconvert_exporter": "python",
   "pygments_lexer": "ipython3",
   "version": "3.10.6"
  }
 },
 "nbformat": 4,
 "nbformat_minor": 5
}
