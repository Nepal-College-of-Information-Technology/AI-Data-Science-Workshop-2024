{
 "cells": [
  {
   "cell_type": "markdown",
   "metadata": {},
   "source": [
    "[![Open In Colab](https://colab.research.google.com/assets/colab-badge.svg)](https://colab.research.google.com/github/Nepal-College-of-Information-Technology/AI-Data-Science-Worksop-2024/blob/main/Practice%20Yourself/Assignment_8.2_Deep_Learning_with_TensorFlow_and_Keras.ipynb)"
   ]
  },
  {
   "cell_type": "markdown",
   "metadata": {},
   "source": [
    "## Assignment 8.2: Deep Learning with TensorFlow and Keras\n",
    "\n",
    "### Instructions:\n",
    "\n",
    "This assignment focuses on building a deep learning model for image classification using TensorFlow and Keras. You will experiment with increasing the depth of the neural network to improve performance.\n",
    "\n",
    "### Tasks:\n",
    "1. **Task 1**: Build a deep neural network model with **two hidden layers**.\n",
    "   - Use the **Sequential API**.\n",
    "   - Input layer: 784 neurons (for MNIST 28x28 images, flattened).\n",
    "   - First hidden layer: 128 neurons with **ReLU** activation.\n",
    "   - Second hidden layer: 64 neurons with **ReLU** activation.\n",
    "   - Output layer: 10 neurons with **softmax** activation."
   ]
  },
  {
   "cell_type": "code",
   "execution_count": 1,
   "metadata": {},
   "outputs": [],
   "source": [
    "# Code here"
   ]
  },
  {
   "cell_type": "markdown",
   "metadata": {},
   "source": [
    "2. **Task 2**: Compile the model with the following parameters:\n",
    "   - **Loss function**: Categorical Crossentropy.\n",
    "   - **Optimizer**: Adam.\n",
    "   - **Metrics**: Accuracy."
   ]
  },
  {
   "cell_type": "code",
   "execution_count": 2,
   "metadata": {},
   "outputs": [],
   "source": [
    "# Code here"
   ]
  },
  {
   "cell_type": "markdown",
   "metadata": {},
   "source": [
    "3. **Task 3**: Load the **Fashion MNIST dataset** from `keras.datasets`.\n",
    "   - Normalize the images to a range of 0 to 1.\n",
    "   - Split the data into training and test sets."
   ]
  },
  {
   "cell_type": "code",
   "execution_count": 3,
   "metadata": {},
   "outputs": [],
   "source": [
    "# Code here"
   ]
  },
  {
   "cell_type": "markdown",
   "metadata": {},
   "source": [
    "4. **Task 4**: Train the model with the **training data**.\n",
    "   - Use **10 epochs** and a **batch size** of 32.\n",
    "   - Add validation data (20% of the training data)."
   ]
  },
  {
   "cell_type": "code",
   "execution_count": 4,
   "metadata": {},
   "outputs": [],
   "source": [
    "# Code here"
   ]
  },
  {
   "cell_type": "markdown",
   "metadata": {},
   "source": [
    "5. **Task 5**: Evaluate the model on the **test set** and print the following:\n",
    "   - Accuracy on the test set.\n",
    "   - Confusion matrix."
   ]
  },
  {
   "cell_type": "code",
   "execution_count": 5,
   "metadata": {},
   "outputs": [],
   "source": [
    "# Code here"
   ]
  },
  {
   "cell_type": "markdown",
   "metadata": {},
   "source": [
    "6. **Task 6** (Optional): Experiment with **Dropout** layers.\n",
    "   - Add a **Dropout layer** after the second hidden layer with a dropout rate of 0.2.\n",
    "   - Train the model and compare performance with the original model."
   ]
  },
  {
   "cell_type": "code",
   "execution_count": 6,
   "metadata": {},
   "outputs": [],
   "source": [
    "# Code here"
   ]
  },
  {
   "cell_type": "markdown",
   "metadata": {},
   "source": [
    "#### Bonus Assignment (Optional):\n",
    "Train a deep learning model using the **CIFAR-10 dataset**.\n",
    "- Build a neural network with at least three hidden layers.\n",
    "- Use **Batch Normalization** and **Dropout** to improve performance.\n",
    "- Compare the model's performance with and without these techniques."
   ]
  },
  {
   "cell_type": "code",
   "execution_count": 7,
   "metadata": {},
   "outputs": [],
   "source": [
    "# Code here"
   ]
  },
  {
   "cell_type": "markdown",
   "metadata": {},
   "source": [
    "---"
   ]
  }
 ],
 "metadata": {
  "kernelspec": {
   "display_name": "base",
   "language": "python",
   "name": "python3"
  },
  "language_info": {
   "codemirror_mode": {
    "name": "ipython",
    "version": 3
   },
   "file_extension": ".py",
   "mimetype": "text/x-python",
   "name": "python",
   "nbconvert_exporter": "python",
   "pygments_lexer": "ipython3",
   "version": "3.10.6"
  }
 },
 "nbformat": 4,
 "nbformat_minor": 2
}
